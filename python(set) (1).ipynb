{
 "cells": [
  {
   "cell_type": "code",
   "execution_count": 3,
   "id": "391681ec-f801-4f6b-877a-94e7e6d9b40d",
   "metadata": {},
   "outputs": [
    {
     "name": "stdout",
     "output_type": "stream",
     "text": [
      "{2, 5, 9.4, 'a'}\n"
     ]
    }
   ],
   "source": [
    "value_set ={2,'python','a',5,9.4}\n",
    "value_set.remove('python')\n",
    "print(value_set)"
   ]
  },
  {
   "cell_type": "code",
   "execution_count": 5,
   "id": "8213cb7e-c6c5-4fa6-9db4-a8a648dc8366",
   "metadata": {},
   "outputs": [
    {
     "name": "stdout",
     "output_type": "stream",
     "text": [
      "{2, 5, 9.4, 'a'}\n"
     ]
    }
   ],
   "source": [
    "value_set ={2,'python','a',5,9.4}\n",
    "value_set.discard('python')\n",
    "print(value_set)"
   ]
  },
  {
   "cell_type": "code",
   "execution_count": 7,
   "id": "dac6d7b8-2494-4737-872d-82ac18614b02",
   "metadata": {},
   "outputs": [
    {
     "name": "stdout",
     "output_type": "stream",
     "text": [
      "5\n"
     ]
    }
   ],
   "source": [
    "value_set = {2,4,5,6,7}\n",
    "print(len(value_set))"
   ]
  },
  {
   "cell_type": "code",
   "execution_count": 9,
   "id": "4e9b2a75-72e4-4c79-928f-2b71c5354e46",
   "metadata": {},
   "outputs": [
    {
     "name": "stdout",
     "output_type": "stream",
     "text": [
      "<class 'set'>\n"
     ]
    }
   ],
   "source": [
    "value_set = {2,4,5,6,7}\n",
    "print(type(value_set))"
   ]
  },
  {
   "cell_type": "code",
   "execution_count": 11,
   "id": "12eb85e4-671e-49db-b678-81bbaa072601",
   "metadata": {},
   "outputs": [
    {
     "name": "stdout",
     "output_type": "stream",
     "text": [
      "24\n"
     ]
    }
   ],
   "source": [
    "value_set = {2,4,5,6,7}\n",
    "print(sum(value_set))"
   ]
  },
  {
   "cell_type": "code",
   "execution_count": 13,
   "id": "97ef9f0a-729a-4aba-9b81-2410a86bd7ed",
   "metadata": {},
   "outputs": [
    {
     "name": "stdout",
     "output_type": "stream",
     "text": [
      "2\n"
     ]
    }
   ],
   "source": [
    "value_set = {2,4,5,6,7}\n",
    "print(min(value_set))"
   ]
  },
  {
   "cell_type": "code",
   "execution_count": 15,
   "id": "ec957ca5-f807-47f6-b7e9-7d02a0b21f64",
   "metadata": {},
   "outputs": [
    {
     "name": "stdout",
     "output_type": "stream",
     "text": [
      "7\n"
     ]
    }
   ],
   "source": [
    "value_set = {2,4,5,6,7}\n",
    "print(max(value_set))"
   ]
  },
  {
   "cell_type": "code",
   "execution_count": 25,
   "id": "08b28ef8-882f-4541-891d-05b0ef09a7b1",
   "metadata": {},
   "outputs": [
    {
     "name": "stdout",
     "output_type": "stream",
     "text": [
      "{2, 4, 5, 6, 7, 9}\n"
     ]
    }
   ],
   "source": [
    "value_set = {2,4,5,6,7}\n",
    "value_set.add(9)\n",
    "print(value_set)"
   ]
  },
  {
   "cell_type": "code",
   "execution_count": 4,
   "id": "0c319914-335a-4f18-8d2e-620c75bbb643",
   "metadata": {},
   "outputs": [
    {
     "name": "stdout",
     "output_type": "stream",
     "text": [
      "{'python', 5.6, 6}\n",
      "<class 'set'>\n"
     ]
    }
   ],
   "source": [
    "values = { 6,'python',5.6}\n",
    "print(values)\n",
    "print(type(values))"
   ]
  },
  {
   "cell_type": "code",
   "execution_count": 6,
   "id": "74e166c7-9f0b-42ab-8dfc-bd37f10343e7",
   "metadata": {},
   "outputs": [
    {
     "data": {
      "text/plain": [
       "dict"
      ]
     },
     "execution_count": 6,
     "metadata": {},
     "output_type": "execute_result"
    }
   ],
   "source": [
    "value={}\n",
    "type(value)"
   ]
  },
  {
   "cell_type": "code",
   "execution_count": 10,
   "id": "23bb6a52-3e34-42d8-b671-7b7d19c9f0b4",
   "metadata": {},
   "outputs": [
    {
     "data": {
      "text/plain": [
       "set"
      ]
     },
     "execution_count": 10,
     "metadata": {},
     "output_type": "execute_result"
    }
   ],
   "source": [
    "values=set()\n",
    "type(values)"
   ]
  },
  {
   "cell_type": "code",
   "execution_count": 12,
   "id": "e13af600-c8ee-48d8-b11b-296f345cd926",
   "metadata": {},
   "outputs": [
    {
     "name": "stdout",
     "output_type": "stream",
     "text": [
      "{1, 2, 3, 4, 5, 12, 45}\n"
     ]
    }
   ],
   "source": [
    "values = {12,1,2,3,2,45,4,5,3}\n",
    "print(values)"
   ]
  },
  {
   "cell_type": "code",
   "execution_count": 1,
   "id": "0c5547bd-9241-448f-9b9f-c6e44d798aa3",
   "metadata": {},
   "outputs": [
    {
     "name": "stdout",
     "output_type": "stream",
     "text": [
      "set()\n"
     ]
    },
    {
     "data": {
      "text/plain": [
       "{2, 5, 9.4, 'a', 'python'}"
      ]
     },
     "execution_count": 1,
     "metadata": {},
     "output_type": "execute_result"
    }
   ],
   "source": [
    "set1 = set()\n",
    "print(set1)\n",
    "value_set = {2,'python','a',5,9.4}\n",
    "value_set"
   ]
  },
  {
   "cell_type": "code",
   "execution_count": 3,
   "id": "5ed1e537-c601-464d-a912-bb270ce0635b",
   "metadata": {},
   "outputs": [
    {
     "ename": "TypeError",
     "evalue": "'set' object is not subscriptable",
     "output_type": "error",
     "traceback": [
      "\u001b[1;31m---------------------------------------------------------------------------\u001b[0m",
      "\u001b[1;31mTypeError\u001b[0m                                 Traceback (most recent call last)",
      "Cell \u001b[1;32mIn[3], line 1\u001b[0m\n\u001b[1;32m----> 1\u001b[0m value_set[\u001b[38;5;241m0\u001b[39m]\n",
      "\u001b[1;31mTypeError\u001b[0m: 'set' object is not subscriptable"
     ]
    }
   ],
   "source": [
    "value_set[0]\n"
   ]
  },
  {
   "cell_type": "code",
   "execution_count": 5,
   "id": "359285b1-7e33-45f4-814e-01c2c65ae814",
   "metadata": {},
   "outputs": [
    {
     "ename": "AttributeError",
     "evalue": "'set' object has no attribute 'append'",
     "output_type": "error",
     "traceback": [
      "\u001b[1;31m---------------------------------------------------------------------------\u001b[0m",
      "\u001b[1;31mAttributeError\u001b[0m                            Traceback (most recent call last)",
      "Cell \u001b[1;32mIn[5], line 1\u001b[0m\n\u001b[1;32m----> 1\u001b[0m value_set\u001b[38;5;241m.\u001b[39mappend(\u001b[38;5;124m\"\u001b[39m\u001b[38;5;124mhello\u001b[39m\u001b[38;5;124m\"\u001b[39m)\n\u001b[0;32m      2\u001b[0m value_set\n",
      "\u001b[1;31mAttributeError\u001b[0m: 'set' object has no attribute 'append'"
     ]
    }
   ],
   "source": [
    "value_set.append(\"hello\")\n",
    "value_set\n"
   ]
  },
  {
   "cell_type": "code",
   "execution_count": 7,
   "id": "d56ba8b2-a9f1-4b69-9493-42098d407f75",
   "metadata": {},
   "outputs": [
    {
     "ename": "TypeError",
     "evalue": "unsupported operand type(s) for +: 'set' and 'str'",
     "output_type": "error",
     "traceback": [
      "\u001b[1;31m---------------------------------------------------------------------------\u001b[0m",
      "\u001b[1;31mTypeError\u001b[0m                                 Traceback (most recent call last)",
      "Cell \u001b[1;32mIn[7], line 1\u001b[0m\n\u001b[1;32m----> 1\u001b[0m value_set \u001b[38;5;241m=\u001b[39m value_set \u001b[38;5;241m+\u001b[39m \u001b[38;5;124m\"\u001b[39m\u001b[38;5;124mhello\u001b[39m\u001b[38;5;124m\"\u001b[39m\n\u001b[0;32m      2\u001b[0m \u001b[38;5;28mprint\u001b[39m(value_set)\n",
      "\u001b[1;31mTypeError\u001b[0m: unsupported operand type(s) for +: 'set' and 'str'"
     ]
    }
   ],
   "source": [
    "value_set = value_set + \"hello\"\n",
    "print(value_set)"
   ]
  },
  {
   "cell_type": "code",
   "execution_count": 9,
   "id": "7c8bd8f4-498d-44cb-85ce-772b7973c6b5",
   "metadata": {},
   "outputs": [
    {
     "name": "stdout",
     "output_type": "stream",
     "text": [
      "{2, 'a', 5, 9.4, 'python', 'apple'}\n"
     ]
    }
   ],
   "source": [
    "value_set.add(\"apple\")\n",
    "print(value_set)"
   ]
  },
  {
   "cell_type": "code",
   "execution_count": 17,
   "id": "160c9079-dbdd-4449-8a63-afa35bc37f3a",
   "metadata": {},
   "outputs": [
    {
     "name": "stdout",
     "output_type": "stream",
     "text": [
      "{2, 'a', 5, 9.4}\n"
     ]
    }
   ],
   "source": [
    "#deleting a element in set\n",
    "value_set = {2,'python','a',5,9.4}\n",
    "value_set.remove('python')\n",
    "print(value_set)"
   ]
  },
  {
   "cell_type": "code",
   "execution_count": 19,
   "id": "54bec0be-879c-41a9-bfcf-1db19bf4639c",
   "metadata": {},
   "outputs": [
    {
     "ename": "KeyError",
     "evalue": "6",
     "output_type": "error",
     "traceback": [
      "\u001b[1;31m---------------------------------------------------------------------------\u001b[0m",
      "\u001b[1;31mKeyError\u001b[0m                                  Traceback (most recent call last)",
      "Cell \u001b[1;32mIn[19], line 2\u001b[0m\n\u001b[0;32m      1\u001b[0m value_set \u001b[38;5;241m=\u001b[39m {\u001b[38;5;241m2\u001b[39m,\u001b[38;5;124m'\u001b[39m\u001b[38;5;124mpython\u001b[39m\u001b[38;5;124m'\u001b[39m,\u001b[38;5;124m'\u001b[39m\u001b[38;5;124ma\u001b[39m\u001b[38;5;124m'\u001b[39m,\u001b[38;5;241m5\u001b[39m,\u001b[38;5;241m9.4\u001b[39m}\n\u001b[1;32m----> 2\u001b[0m value_set\u001b[38;5;241m.\u001b[39mremove(\u001b[38;5;241m6\u001b[39m)\n\u001b[0;32m      3\u001b[0m \u001b[38;5;28mprint\u001b[39m(value_set)\n",
      "\u001b[1;31mKeyError\u001b[0m: 6"
     ]
    }
   ],
   "source": [
    "value_set = {2,'python','a',5,9.4}\n",
    "value_set.remove(6)\n",
    "print(value_set)"
   ]
  },
  {
   "cell_type": "code",
   "execution_count": 21,
   "id": "ea32be0a-da9e-4fc8-80ee-adcbaf9a7086",
   "metadata": {},
   "outputs": [
    {
     "name": "stdout",
     "output_type": "stream",
     "text": [
      "{2, 'a', 5, 'python'}\n"
     ]
    }
   ],
   "source": [
    "value_set = {2,'python','a',5,9.4}\n",
    "value_set.discard(9.4)\n",
    "print(value_set)"
   ]
  },
  {
   "cell_type": "code",
   "execution_count": 23,
   "id": "0d25d576-d00d-4294-b361-82c3ef976083",
   "metadata": {},
   "outputs": [
    {
     "name": "stdout",
     "output_type": "stream",
     "text": [
      "{2, 'a', 5, 9.4, 'python'}\n"
     ]
    }
   ],
   "source": [
    "value_set = {2,'python','a',5,9.4}\n",
    "value_set.discard(10)\n",
    "print(value_set)"
   ]
  },
  {
   "cell_type": "code",
   "execution_count": 5,
   "id": "ad2a5f71-9b01-42f0-bc6a-4c3205a04fc8",
   "metadata": {},
   "outputs": [
    {
     "name": "stdout",
     "output_type": "stream",
     "text": [
      "set()\n"
     ]
    }
   ],
   "source": [
    "#clear or delete \n",
    "value_set = {2,'python','a',5,9.4}\n",
    "value_set.clear()\n",
    "print(value_set)"
   ]
  },
  {
   "cell_type": "code",
   "execution_count": 1,
   "id": "d769e7b8-a481-48cd-b243-913cf29a2096",
   "metadata": {},
   "outputs": [
    {
     "ename": "AttributeError",
     "evalue": "'set' object has no attribute 'delete'",
     "output_type": "error",
     "traceback": [
      "\u001b[1;31m---------------------------------------------------------------------------\u001b[0m",
      "\u001b[1;31mAttributeError\u001b[0m                            Traceback (most recent call last)",
      "Cell \u001b[1;32mIn[1], line 2\u001b[0m\n\u001b[0;32m      1\u001b[0m value_set \u001b[38;5;241m=\u001b[39m {\u001b[38;5;241m2\u001b[39m,\u001b[38;5;124m'\u001b[39m\u001b[38;5;124mpython\u001b[39m\u001b[38;5;124m'\u001b[39m,\u001b[38;5;124m'\u001b[39m\u001b[38;5;124ma\u001b[39m\u001b[38;5;124m'\u001b[39m,\u001b[38;5;241m5\u001b[39m,\u001b[38;5;241m9.4\u001b[39m}\n\u001b[1;32m----> 2\u001b[0m value_set\u001b[38;5;241m.\u001b[39mdelete()\n\u001b[0;32m      3\u001b[0m \u001b[38;5;28mprint\u001b[39m(value_set)\n",
      "\u001b[1;31mAttributeError\u001b[0m: 'set' object has no attribute 'delete'"
     ]
    }
   ],
   "source": [
    "value_set = {2,'python','a',5,9.4}\n",
    "value_set.delete()\n",
    "print(value_set)"
   ]
  },
  {
   "cell_type": "code",
   "execution_count": 21,
   "id": "96ed87b9-2864-4ba2-a763-6c34db359ad2",
   "metadata": {},
   "outputs": [
    {
     "name": "stdin",
     "output_type": "stream",
     "text": [
      " 3\n",
      " 10\n",
      " 20\n",
      " 30\n"
     ]
    }
   ],
   "source": [
    "value_set=set()\n",
    "n=int(input())\n",
    "for i in range(n):\n",
    "    value_set.add(int(input()))"
   ]
  },
  {
   "cell_type": "code",
   "execution_count": 23,
   "id": "a5f05cfa-dacd-4f8e-8303-cdd01dfca599",
   "metadata": {},
   "outputs": [
    {
     "data": {
      "text/plain": [
       "{10, 20, 30}"
      ]
     },
     "execution_count": 23,
     "metadata": {},
     "output_type": "execute_result"
    }
   ],
   "source": [
    "value_set"
   ]
  },
  {
   "cell_type": "code",
   "execution_count": 25,
   "id": "ce63e07d-2916-477f-8ed5-e0180f19838d",
   "metadata": {},
   "outputs": [
    {
     "name": "stdout",
     "output_type": "stream",
     "text": [
      "10\n",
      "20\n",
      "30\n"
     ]
    }
   ],
   "source": [
    "for i in value_set:\n",
    "    print(i)"
   ]
  },
  {
   "cell_type": "code",
   "execution_count": 27,
   "id": "bfeff131-0fdd-48ef-a58e-934ea1791f6b",
   "metadata": {},
   "outputs": [],
   "source": [
    "value_set={6,12,26,10}\n"
   ]
  },
  {
   "cell_type": "code",
   "execution_count": 29,
   "id": "4c2e55de-697b-4ee3-b950-5b4a9f7461c2",
   "metadata": {},
   "outputs": [
    {
     "name": "stdin",
     "output_type": "stream",
     "text": [
      " 4\n"
     ]
    },
    {
     "name": "stdout",
     "output_type": "stream",
     "text": [
      "incorrect\n"
     ]
    }
   ],
   "source": [
    "n = int(input())\n",
    "if (value_set==n):\n",
    "    print(\"correct\")\n",
    "else:\n",
    "    print(\"incorrect\")"
   ]
  },
  {
   "cell_type": "code",
   "execution_count": 3,
   "id": "92ac18d5-4e84-40cd-a2f0-1ee359ff9e7d",
   "metadata": {},
   "outputs": [
    {
     "name": "stdin",
     "output_type": "stream",
     "text": [
      " 6\n"
     ]
    },
    {
     "ename": "NameError",
     "evalue": "name 'value_set' is not defined",
     "output_type": "error",
     "traceback": [
      "\u001b[1;31m---------------------------------------------------------------------------\u001b[0m",
      "\u001b[1;31mNameError\u001b[0m                                 Traceback (most recent call last)",
      "Cell \u001b[1;32mIn[3], line 2\u001b[0m\n\u001b[0;32m      1\u001b[0m n \u001b[38;5;241m=\u001b[39m \u001b[38;5;28mint\u001b[39m(\u001b[38;5;28minput\u001b[39m())\n\u001b[1;32m----> 2\u001b[0m \u001b[38;5;28;01mif\u001b[39;00m n \u001b[38;5;129;01min\u001b[39;00m value_set:\n\u001b[0;32m      3\u001b[0m     \u001b[38;5;28mprint\u001b[39m(\u001b[38;5;124m\"\u001b[39m\u001b[38;5;124mcorrect\u001b[39m\u001b[38;5;124m\"\u001b[39m)\n\u001b[0;32m      4\u001b[0m \u001b[38;5;28;01melse\u001b[39;00m:\n",
      "\u001b[1;31mNameError\u001b[0m: name 'value_set' is not defined"
     ]
    }
   ],
   "source": [
    "n = int(input())\n",
    "if n in value_set:\n",
    "    print(\"correct\")\n",
    "else:\n",
    "    print(\"incorrect\")"
   ]
  },
  {
   "cell_type": "code",
   "execution_count": 7,
   "id": "2b6f1626-2aa3-4d63-8f9a-9624eedda3a8",
   "metadata": {},
   "outputs": [],
   "source": [
    "month1_set={\"jan\",\"feb\",\"mar\",\"apr\"}\n",
    "month2_set={\"may\",\"jun\",\"jan\",\"aug\"}"
   ]
  },
  {
   "cell_type": "code",
   "execution_count": 9,
   "id": "05f45492-4260-4786-9a9b-44b933a46758",
   "metadata": {},
   "outputs": [
    {
     "data": {
      "text/plain": [
       "{'apr', 'feb', 'jan', 'mar'}"
      ]
     },
     "execution_count": 9,
     "metadata": {},
     "output_type": "execute_result"
    }
   ],
   "source": [
    "month1_set"
   ]
  },
  {
   "cell_type": "code",
   "execution_count": 11,
   "id": "641941b1-5290-4ce5-bca2-f60790f23b53",
   "metadata": {},
   "outputs": [
    {
     "data": {
      "text/plain": [
       "{'aug', 'jan', 'jun', 'may'}"
      ]
     },
     "execution_count": 11,
     "metadata": {},
     "output_type": "execute_result"
    }
   ],
   "source": [
    "month2_set\n"
   ]
  },
  {
   "cell_type": "code",
   "execution_count": 13,
   "id": "715f1df7-07d2-475d-90cf-543ef1ab369d",
   "metadata": {},
   "outputs": [],
   "source": [
    "month = month1_set | month2_set"
   ]
  },
  {
   "cell_type": "code",
   "execution_count": 71,
   "id": "c100e4f1-8b84-41db-9330-ab5628fecbe3",
   "metadata": {},
   "outputs": [
    {
     "data": {
      "text/plain": [
       "{'apr', 'aug', 'feb', 'jan', 'jun', 'mar', 'may'}"
      ]
     },
     "execution_count": 71,
     "metadata": {},
     "output_type": "execute_result"
    }
   ],
   "source": [
    "month"
   ]
  },
  {
   "cell_type": "code",
   "execution_count": 73,
   "id": "9ef7bfae-31a3-4e71-b2b0-c687be59ae9d",
   "metadata": {},
   "outputs": [],
   "source": [
    "month_common = month1_set.union(month2_set)"
   ]
  },
  {
   "cell_type": "code",
   "execution_count": 75,
   "id": "58253dd5-1cbf-489a-8447-77d5ce4352d7",
   "metadata": {},
   "outputs": [
    {
     "data": {
      "text/plain": [
       "{'apr', 'aug', 'feb', 'jan', 'jun', 'mar', 'may'}"
      ]
     },
     "execution_count": 75,
     "metadata": {},
     "output_type": "execute_result"
    }
   ],
   "source": [
    "month_common"
   ]
  },
  {
   "cell_type": "code",
   "execution_count": 15,
   "id": "3b04b7a1-df01-47da-8576-4472f4d84233",
   "metadata": {},
   "outputs": [],
   "source": [
    "month_inter = month1_set.intersection(month2_set)"
   ]
  },
  {
   "cell_type": "code",
   "execution_count": 17,
   "id": "fb726e66-a3fe-4b3f-aaa5-23f6c80e6a48",
   "metadata": {},
   "outputs": [
    {
     "data": {
      "text/plain": [
       "{'jan'}"
      ]
     },
     "execution_count": 17,
     "metadata": {},
     "output_type": "execute_result"
    }
   ],
   "source": [
    "month_inter"
   ]
  },
  {
   "cell_type": "code",
   "execution_count": 19,
   "id": "10b132f5-8296-46f7-a537-323a2bc31059",
   "metadata": {},
   "outputs": [],
   "source": [
    "common = month1_set & (month2_set)"
   ]
  },
  {
   "cell_type": "code",
   "execution_count": 21,
   "id": "98b2a6ea-a328-49a6-b146-862621c168ef",
   "metadata": {},
   "outputs": [
    {
     "data": {
      "text/plain": [
       "{'jan'}"
      ]
     },
     "execution_count": 21,
     "metadata": {},
     "output_type": "execute_result"
    }
   ],
   "source": [
    "common"
   ]
  },
  {
   "cell_type": "code",
   "execution_count": 23,
   "id": "5a336cb6-0266-445a-b806-7e5e3c417c10",
   "metadata": {},
   "outputs": [
    {
     "data": {
      "text/plain": [
       "{'apr', 'feb', 'mar'}"
      ]
     },
     "execution_count": 23,
     "metadata": {},
     "output_type": "execute_result"
    }
   ],
   "source": [
    "#diff of two sets\n",
    "diff = (month1_set - month2_set)\n",
    "diff"
   ]
  },
  {
   "cell_type": "code",
   "execution_count": 25,
   "id": "fcb9600b-619f-46e6-aeb2-737ddd9e7abd",
   "metadata": {},
   "outputs": [
    {
     "data": {
      "text/plain": [
       "{'aug', 'jun', 'may'}"
      ]
     },
     "execution_count": 25,
     "metadata": {},
     "output_type": "execute_result"
    }
   ],
   "source": [
    "diff = (month2_set - month1_set)\n",
    "diff\n"
   ]
  },
  {
   "cell_type": "code",
   "execution_count": 27,
   "id": "8fe8fd79-535e-44e6-980c-7b1e05221ad8",
   "metadata": {},
   "outputs": [
    {
     "data": {
      "text/plain": [
       "{'apr', 'feb', 'mar'}"
      ]
     },
     "execution_count": 27,
     "metadata": {},
     "output_type": "execute_result"
    }
   ],
   "source": [
    "y = month1_set.difference(month2_set)\n",
    "y"
   ]
  },
  {
   "cell_type": "code",
   "execution_count": 33,
   "id": "2ce4b45f-a4eb-4ccb-b40c-de7ca447b605",
   "metadata": {},
   "outputs": [
    {
     "data": {
      "text/plain": [
       "{'dec', 'feb', 'jan', 'mar'}"
      ]
     },
     "execution_count": 33,
     "metadata": {},
     "output_type": "execute_result"
    }
   ],
   "source": [
    "#set comparisions\n",
    "month1_sets = {\"jan\",\"feb\",\"dec\",\"mar\"}\n",
    "month2_sets = {\"jan\",\"feb\"}\n",
    "x = month1_sets | month2_sets\n",
    "x"
   ]
  },
  {
   "cell_type": "code",
   "execution_count": 2,
   "id": "d03559c9-5344-462c-a739-02f079c97f16",
   "metadata": {},
   "outputs": [
    {
     "name": "stdout",
     "output_type": "stream",
     "text": [
      "{0, 1, 4, 9, 16}\n"
     ]
    }
   ],
   "source": [
    "squares = {X**2 for X in range(5)}\n",
    "print(squares)"
   ]
  },
  {
   "cell_type": "code",
   "execution_count": 4,
   "id": "c8842412-1ede-4e60-a634-a495fd56db1f",
   "metadata": {},
   "outputs": [
    {
     "name": "stdout",
     "output_type": "stream",
     "text": [
      "{1, 4, 9, 16, 25}\n"
     ]
    }
   ],
   "source": [
    "#creating new set of square values\n",
    "numbers = [1,2,3,4,5]\n",
    "squared_num = {X**2 for X in numbers}\n",
    "print(squared_num)"
   ]
  },
  {
   "cell_type": "code",
   "execution_count": 12,
   "id": "b0d1e447-08a3-4282-9e74-a67c4cb6f625",
   "metadata": {},
   "outputs": [
    {
     "name": "stdout",
     "output_type": "stream",
     "text": [
      "{16, 4}\n"
     ]
    }
   ],
   "source": [
    "#set compherhension with conditions\n",
    "numbers = [1,2,3,4,5]\n",
    "even_num = {x**2 for x in numbers if x%2==0}\n",
    "print(even_num)"
   ]
  },
  {
   "cell_type": "code",
   "execution_count": 14,
   "id": "8995f9ff-93cc-47cc-aa81-54775b2e96d1",
   "metadata": {},
   "outputs": [
    {
     "name": "stdout",
     "output_type": "stream",
     "text": [
      "{'banana', 'cherry', 'apple'}\n"
     ]
    }
   ],
   "source": [
    "#say the fruit name without vowel\n",
    "words = [\"apple\",\"banana\",\"cherry\",\"lyn\"]\n",
    "vowels={'a','e','i','o','u'}\n",
    "vowel_word = {word for word in words if any(letter in vowels for letter in word)}\n",
    "print(vowel_word)"
   ]
  },
  {
   "cell_type": "code",
   "execution_count": 18,
   "id": "ca1195db-2999-40cf-b34d-27ffe21e3a1d",
   "metadata": {},
   "outputs": [
    {
     "name": "stdout",
     "output_type": "stream",
     "text": [
      "{1, 4, 36, 9, 16, 25}\n"
     ]
    }
   ],
   "source": [
    "#eliminating duplicates\n",
    "numbers = [1,2,3,3,4,5,1,6]\n",
    "unique_squares = {x**2 for x in numbers}\n",
    "print(unique_squares)\n"
   ]
  },
  {
   "cell_type": "code",
   "execution_count": 22,
   "id": "a5050714-60b3-4ef4-8516-3a02f64c0031",
   "metadata": {},
   "outputs": [
    {
     "name": "stdout",
     "output_type": "stream",
     "text": [
      "{'E', 'O', 'W', 'H', 'L', 'R', 'D'}\n"
     ]
    }
   ],
   "source": [
    "#set compherehnsion with string manupulation\n",
    "text = \"hello world\"\n",
    "uppercase_letters ={char.upper() for char in text if char.isalpha()}\n",
    "print(uppercase_letters)"
   ]
  },
  {
   "cell_type": "code",
   "execution_count": null,
   "id": "e62b39bc-3388-42b6-a2a6-d7788658ad4d",
   "metadata": {},
   "outputs": [],
   "source": []
  }
 ],
 "metadata": {
  "kernelspec": {
   "display_name": "Python 3 (ipykernel)",
   "language": "python",
   "name": "python3"
  },
  "language_info": {
   "codemirror_mode": {
    "name": "ipython",
    "version": 3
   },
   "file_extension": ".py",
   "mimetype": "text/x-python",
   "name": "python",
   "nbconvert_exporter": "python",
   "pygments_lexer": "ipython3",
   "version": "3.12.4"
  }
 },
 "nbformat": 4,
 "nbformat_minor": 5
}
