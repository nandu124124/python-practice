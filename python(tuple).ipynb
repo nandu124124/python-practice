{
 "cells": [
  {
   "cell_type": "code",
   "execution_count": 2,
   "id": "e1b37f4a-61d7-4be1-b144-eb87364104dd",
   "metadata": {},
   "outputs": [
    {
     "name": "stdout",
     "output_type": "stream",
     "text": [
      "()\n"
     ]
    }
   ],
   "source": [
    "empty_tuple =()\n",
    "print (empty_tuple)"
   ]
  },
  {
   "cell_type": "code",
   "execution_count": 4,
   "id": "ebb5d23f-e555-4723-8316-9016446d6669",
   "metadata": {},
   "outputs": [
    {
     "name": "stdout",
     "output_type": "stream",
     "text": [
      "(25, 45, 32)\n"
     ]
    }
   ],
   "source": [
    "value_tuple = 25,45,32\n",
    "print(value_tuple)"
   ]
  },
  {
   "cell_type": "code",
   "execution_count": 6,
   "id": "91eaeca4-634e-4af8-8448-adda04bba1b8",
   "metadata": {},
   "outputs": [
    {
     "name": "stdout",
     "output_type": "stream",
     "text": [
      "(2.69, 18, 'apple')\n"
     ]
    }
   ],
   "source": [
    "value_tuple2 = (2.69,18,'apple')\n",
    "print(value_tuple2)"
   ]
  },
  {
   "cell_type": "code",
   "execution_count": 16,
   "id": "ee6f40c1-696a-44c7-bc0a-f19d31c4f079",
   "metadata": {},
   "outputs": [
    {
     "name": "stdout",
     "output_type": "stream",
     "text": [
      "hello <class 'str'>\n"
     ]
    }
   ],
   "source": [
    "tuple = ('hello')\n",
    "print(tuple, type(tuple))\n"
   ]
  },
  {
   "cell_type": "code",
   "execution_count": 14,
   "id": "bdde720d-458e-4c1a-8f8a-dd3f8331a64c",
   "metadata": {},
   "outputs": [
    {
     "name": "stdout",
     "output_type": "stream",
     "text": [
      "('hello',) <class 'tuple'>\n"
     ]
    }
   ],
   "source": [
    "tuple = ('hello',)\n",
    "print(tuple, type(tuple))\n"
   ]
  },
  {
   "cell_type": "code",
   "execution_count": 18,
   "id": "bbbada1b-016d-4710-9f77-d4d1bd0a7f23",
   "metadata": {},
   "outputs": [
    {
     "ename": "TypeError",
     "evalue": "'tuple' object does not support item assignment",
     "output_type": "error",
     "traceback": [
      "\u001b[1;31m---------------------------------------------------------------------------\u001b[0m",
      "\u001b[1;31mTypeError\u001b[0m                                 Traceback (most recent call last)",
      "Cell \u001b[1;32mIn[18], line 2\u001b[0m\n\u001b[0;32m      1\u001b[0m value_tuple \u001b[38;5;241m=\u001b[39m (\u001b[38;5;241m26\u001b[39m,\u001b[38;5;241m45\u001b[39m,\u001b[38;5;124m'\u001b[39m\u001b[38;5;124mhello\u001b[39m\u001b[38;5;124m'\u001b[39m)\n\u001b[1;32m----> 2\u001b[0m value_tuple[\u001b[38;5;241m1\u001b[39m] \u001b[38;5;241m=\u001b[39m \u001b[38;5;241m7\u001b[39m\n\u001b[0;32m      3\u001b[0m \u001b[38;5;28mprint\u001b[39m(tuple_value)\n",
      "\u001b[1;31mTypeError\u001b[0m: 'tuple' object does not support item assignment"
     ]
    }
   ],
   "source": [
    "#we cannot change the values in tuple ,hence its an error\n",
    "value_tuple = (26,45,'hello')\n",
    "value_tuple[1] = 7\n",
    "print(tuple_value)"
   ]
  },
  {
   "cell_type": "code",
   "execution_count": 30,
   "id": "8c7dffa4-ee08-45fc-bf2a-c8ee8ff9cd29",
   "metadata": {},
   "outputs": [
    {
     "name": "stdout",
     "output_type": "stream",
     "text": [
      "(25, 45, 'hello', 7, 5.5, 'python')\n"
     ]
    }
   ],
   "source": [
    "value1_tuple = (25,45,'hello')\n",
    "value2_tuple = (7,5.5,\"python\")\n",
    "print(value1_tuple+value2_tuple)"
   ]
  },
  {
   "cell_type": "code",
   "execution_count": 28,
   "id": "a5491342-887a-402c-99cb-8c13f9b9ca32",
   "metadata": {},
   "outputs": [
    {
     "name": "stdout",
     "output_type": "stream",
     "text": [
      "((25, 45, 'hello'), (7, 5.5, 'python'))\n"
     ]
    }
   ],
   "source": [
    "value1_tuple = (25,45,'hello')\n",
    "value2_tuple = (7,5.5,\"python\")\n",
    "value3_tuple = value1_tuple,value2_tuple\n",
    "print(value3_tuple)"
   ]
  },
  {
   "cell_type": "code",
   "execution_count": 32,
   "id": "63b4675e-0ca7-4b94-8de0-61757fdd10fd",
   "metadata": {},
   "outputs": [
    {
     "name": "stdout",
     "output_type": "stream",
     "text": [
      "(25, 45, 'hello', 25, 45, 'hello')\n"
     ]
    }
   ],
   "source": [
    "value_tuple = (25,45,'hello')*2\n",
    "print(value_tuple)"
   ]
  },
  {
   "cell_type": "code",
   "execution_count": 34,
   "id": "15c0d856-25cf-446f-9a8e-485c25422b10",
   "metadata": {},
   "outputs": [],
   "source": [
    "#accessing values in tuple\n",
    "value_tuple = (25,45,'hello')\n",
    "value2_tuple = (7,5.5,\"python\")"
   ]
  },
  {
   "cell_type": "code",
   "execution_count": 38,
   "id": "b1e12b91-a705-456b-8ac7-98b95011ed6a",
   "metadata": {},
   "outputs": [
    {
     "name": "stdout",
     "output_type": "stream",
     "text": [
      "7.5\n"
     ]
    }
   ],
   "source": [
    "value_tuple = (25,45,'hello',7.5)\n",
    "print(value_tuple[3])"
   ]
  },
  {
   "cell_type": "code",
   "execution_count": 40,
   "id": "c9b1a0df-380c-4b23-8150-98ed397adccb",
   "metadata": {},
   "outputs": [
    {
     "name": "stdout",
     "output_type": "stream",
     "text": [
      "(25, 45, 'hello', 7.5)\n"
     ]
    }
   ],
   "source": [
    "value_tuple = (25,45,'hello',7.5)\n",
    "print(value_tuple[0:])"
   ]
  },
  {
   "cell_type": "code",
   "execution_count": 74,
   "id": "168319a7-1325-4af8-83dd-e3cdfb19ca7c",
   "metadata": {},
   "outputs": [
    {
     "name": "stdout",
     "output_type": "stream",
     "text": [
      "(45, 'hello', 7.5)\n"
     ]
    }
   ],
   "source": [
    "value_tuple = (26,45,'hello',7.5,'z',5,6.9)\n",
    "print(value_tuple[1:4])"
   ]
  },
  {
   "cell_type": "code",
   "execution_count": 50,
   "id": "f55aba57-ff2a-450d-99ec-e45122c337b1",
   "metadata": {},
   "outputs": [
    {
     "name": "stdout",
     "output_type": "stream",
     "text": [
      "7.5\n"
     ]
    }
   ],
   "source": [
    "value_tuple = (25,45,'hello',7.5)\n",
    "print(value_tuple[-1])"
   ]
  },
  {
   "cell_type": "code",
   "execution_count": 76,
   "id": "afefb8f2-c371-4956-80c0-47d816e4a6c7",
   "metadata": {},
   "outputs": [
    {
     "name": "stdout",
     "output_type": "stream",
     "text": [
      "(45, 'hello', 7.5, 'z', 5, 6.9)\n"
     ]
    }
   ],
   "source": [
    "value_tuple = (26,45,'hello',7.5,'z',5,6.9)\n",
    "print(value_tuple[1::1])"
   ]
  },
  {
   "cell_type": "code",
   "execution_count": 78,
   "id": "1960d852-fa05-4e58-925f-de443867e492",
   "metadata": {},
   "outputs": [
    {
     "name": "stdout",
     "output_type": "stream",
     "text": [
      "(45, 'z')\n"
     ]
    }
   ],
   "source": [
    "value_tuple = (26,45,'hello',7.5,'z',5,6.9)\n",
    "print(value_tuple[1::3])"
   ]
  },
  {
   "cell_type": "code",
   "execution_count": 80,
   "id": "cd6349a7-6693-421a-8da9-ca8dbb9660ce",
   "metadata": {},
   "outputs": [
    {
     "name": "stdout",
     "output_type": "stream",
     "text": [
      "(6.9, 'z', 'hello', 26)\n"
     ]
    }
   ],
   "source": [
    "value_tuple = (26,45,'hello',7.5,'z',5,6.9)\n",
    "print(value_tuple[-1::-2])"
   ]
  },
  {
   "cell_type": "code",
   "execution_count": 82,
   "id": "762e2957-6e5e-4c8c-b6a1-050356803fb1",
   "metadata": {},
   "outputs": [
    {
     "name": "stdout",
     "output_type": "stream",
     "text": [
      "(45, 7.5, 5)\n"
     ]
    }
   ],
   "source": [
    "value_tuple = (26,45,'hello',7.5,'z',5,6.9)\n",
    "print(value_tuple[1:6:2])"
   ]
  },
  {
   "cell_type": "code",
   "execution_count": 84,
   "id": "3cad1955-9092-48f7-8328-4641075c6429",
   "metadata": {},
   "outputs": [
    {
     "name": "stdout",
     "output_type": "stream",
     "text": [
      "(45,)\n"
     ]
    }
   ],
   "source": [
    "value_tuple = (26,45,'hello',7.5,'z',5,6.9)\n",
    "print(value_tuple[1:3:2])"
   ]
  },
  {
   "cell_type": "code",
   "execution_count": 86,
   "id": "84372d8d-4ac2-404b-9f3b-da0b7a5c1c12",
   "metadata": {},
   "outputs": [
    {
     "name": "stdout",
     "output_type": "stream",
     "text": [
      "45\n",
      "(26, 45, 'hello', 7.5, 'z', 5, 6.9)\n"
     ]
    }
   ],
   "source": [
    "#deleting the tuple\n",
    "value_tuple = (26,45,'hello',7.5,'z',5,6.9)\n",
    "print(value_tuple[1])\n",
    "print(value_tuple)"
   ]
  },
  {
   "cell_type": "code",
   "execution_count": 92,
   "id": "2aab298b-3dc1-4f62-9d5c-c5b824342017",
   "metadata": {},
   "outputs": [
    {
     "name": "stdout",
     "output_type": "stream",
     "text": [
      "45\n"
     ]
    }
   ],
   "source": [
    "value_tuple = (26,45,'hello',7.5,'z',5,6.9)\n",
    "print(value_tuple[1])\n",
    "del(value_tuple)\n"
   ]
  },
  {
   "cell_type": "code",
   "execution_count": null,
   "id": "629ff4d9-b3c8-436f-a10d-9cad59cba7e1",
   "metadata": {},
   "outputs": [],
   "source": []
  }
 ],
 "metadata": {
  "kernelspec": {
   "display_name": "Python 3 (ipykernel)",
   "language": "python",
   "name": "python3"
  },
  "language_info": {
   "codemirror_mode": {
    "name": "ipython",
    "version": 3
   },
   "file_extension": ".py",
   "mimetype": "text/x-python",
   "name": "python",
   "nbconvert_exporter": "python",
   "pygments_lexer": "ipython3",
   "version": "3.12.4"
  }
 },
 "nbformat": 4,
 "nbformat_minor": 5
}
