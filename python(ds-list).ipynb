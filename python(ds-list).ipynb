{
 "cells": [
  {
   "cell_type": "code",
   "execution_count": 2,
   "id": "b4a1e614-e798-47af-830e-cc43d4f4c27c",
   "metadata": {},
   "outputs": [],
   "source": [
    "a=[10,20,30,40,50]"
   ]
  },
  {
   "cell_type": "code",
   "execution_count": 6,
   "id": "f943eabf-9c59-4933-a0b6-5d8cdc0ae682",
   "metadata": {},
   "outputs": [
    {
     "name": "stdout",
     "output_type": "stream",
     "text": [
      "10 20 30 40 50 "
     ]
    }
   ],
   "source": [
    "for i in a:\n",
    "    print(i, end=\" \")"
   ]
  },
  {
   "cell_type": "code",
   "execution_count": 16,
   "id": "72d7fee9-7fd0-4e34-9753-e02e1160660b",
   "metadata": {},
   "outputs": [
    {
     "name": "stdout",
     "output_type": "stream",
     "text": [
      "not found\n"
     ]
    }
   ],
   "source": [
    "for i in a:\n",
    "    if i==60:\n",
    "        print(\"value found\")\n",
    "        break\n",
    "else:\n",
    "        print(\"not found\")"
   ]
  },
  {
   "cell_type": "code",
   "execution_count": 29,
   "id": "21d7b71b-5721-4202-944e-fe879e994d14",
   "metadata": {},
   "outputs": [
    {
     "name": "stdout",
     "output_type": "stream",
     "text": [
      "[10, 20, 30, 40] "
     ]
    }
   ],
   "source": [
    "a=[10,20,30,40]\n",
    "while a[3]:\n",
    "    print(a, end=\" \")\n",
    "    break\n",
    "    "
   ]
  },
  {
   "cell_type": "code",
   "execution_count": 17,
   "id": "900b15ab-661c-4d6e-b4ac-3660b97fd4e9",
   "metadata": {},
   "outputs": [
    {
     "name": "stdout",
     "output_type": "stream",
     "text": [
      "value is not found\n"
     ]
    }
   ],
   "source": [
    "a=[10,20,30,40]\n",
    "for i in a:\n",
    "    if i==50:\n",
    "        print(\"value is found\")\n",
    "        break\n",
    "else:\n",
    "    print(\"value is not found\")\n",
    "    "
   ]
  },
  {
   "cell_type": "code",
   "execution_count": 49,
   "id": "37aa8e81-abbf-4507-8820-f72eea5df835",
   "metadata": {},
   "outputs": [
    {
     "name": "stdout",
     "output_type": "stream",
     "text": [
      "value is not found\n"
     ]
    }
   ],
   "source": [
    "#using memembership logics to find the number(in (or) not in)\n",
    "a=[10,20,30,40]\n",
    "for i in a:\n",
    "    if 50 in a:\n",
    "        print(\"value is found\")\n",
    "        break\n",
    "else:\n",
    "    print(\"value is not found\")\n",
    "    "
   ]
  },
  {
   "cell_type": "code",
   "execution_count": 47,
   "id": "5de02797-be1b-4d8a-b28f-7222e946e43e",
   "metadata": {},
   "outputs": [
    {
     "name": "stdout",
     "output_type": "stream",
     "text": [
      "2\n"
     ]
    }
   ],
   "source": [
    "#to find a index value of the number 30\n",
    "a=[10,20,30,40]\n",
    "for i in range(len(a)):\n",
    "    if a[i]==30:\n",
    "        print(i)\n",
    "        break"
   ]
  },
  {
   "cell_type": "code",
   "execution_count": 57,
   "id": "42672b0d-1c30-467f-b015-7c2ce4f4ca99",
   "metadata": {},
   "outputs": [
    {
     "name": "stdout",
     "output_type": "stream",
     "text": [
      "7\n"
     ]
    }
   ],
   "source": [
    "items =[10,20,30,40,50,60,70,80,90]\n",
    "print(items.index(80))"
   ]
  },
  {
   "cell_type": "code",
   "execution_count": 126,
   "id": "97ad7d12-4dd9-49e3-9b70-841f23632854",
   "metadata": {},
   "outputs": [
    {
     "name": "stdout",
     "output_type": "stream",
     "text": [
      "24\n",
      "23\n",
      "9\n"
     ]
    }
   ],
   "source": [
    "a=[10,20,30,40,50,60,70,80,90,11,22,33,44,55,66,77,88,99,12,24,36,48,54,65]\n",
    "print(len(a))\n",
    "print(len(a)-1)\n",
    "print(a.index(11))\n"
   ]
  },
  {
   "cell_type": "code",
   "execution_count": 1,
   "id": "870d6feb-418d-4550-b815-c7ca087dc306",
   "metadata": {},
   "outputs": [
    {
     "name": "stdout",
     "output_type": "stream",
     "text": [
      "[1, 2, 3, 4, 5, 6, 7, 8, 9, 10, 11, 12, 13, 14, 15, 16, 17, 18, 19, 20, 21, 22, 23, 24, 25, 26, 27, 28, 29]\n"
     ]
    }
   ],
   "source": [
    "a=list(range(1,30))\n",
    "print(a)"
   ]
  },
  {
   "cell_type": "code",
   "execution_count": 79,
   "id": "e886dae1-4e84-4863-809e-09296bd1f4a5",
   "metadata": {},
   "outputs": [
    {
     "data": {
      "text/plain": [
       "44"
      ]
     },
     "execution_count": 79,
     "metadata": {},
     "output_type": "execute_result"
    }
   ],
   "source": [
    "a[-4]\n",
    "a[-12]"
   ]
  },
  {
   "cell_type": "code",
   "execution_count": 81,
   "id": "06afd41d-1718-43b7-9de1-1a9091db70ad",
   "metadata": {},
   "outputs": [
    {
     "data": {
      "text/plain": [
       "10"
      ]
     },
     "execution_count": 81,
     "metadata": {},
     "output_type": "execute_result"
    }
   ],
   "source": [
    "a[-len(a)]"
   ]
  },
  {
   "cell_type": "code",
   "execution_count": 83,
   "id": "faaa9bc3-72a0-48fc-adc1-60f9bd37839f",
   "metadata": {},
   "outputs": [
    {
     "name": "stdout",
     "output_type": "stream",
     "text": [
      "[1, 'ABC', 84.9, 'a']\n"
     ]
    }
   ],
   "source": [
    "information=[1,\"ABC\",84.9,'a']\n",
    "print(information)"
   ]
  },
  {
   "cell_type": "code",
   "execution_count": 11,
   "id": "ed3a9aff-3932-4631-a038-169eb93808a0",
   "metadata": {},
   "outputs": [
    {
     "data": {
      "text/plain": [
       "'ABC'"
      ]
     },
     "execution_count": 11,
     "metadata": {},
     "output_type": "execute_result"
    }
   ],
   "source": [
    "information=[1,\"ABC\",84.9,'a']\n",
    "information[1]\n"
   ]
  },
  {
   "cell_type": "code",
   "execution_count": 15,
   "id": "a13170c5-885b-4cbc-89c0-4f8007fd2714",
   "metadata": {},
   "outputs": [
    {
     "name": "stdout",
     "output_type": "stream",
     "text": [
      "[1, 'ABC', 84.9, 'a', 'hello', 'hello', 'hello', 'hello', 'hello']\n"
     ]
    }
   ],
   "source": [
    "information=[1,\"ABC\",84.9,'a']\n",
    "a=\"hello\"\n",
    "for i in a:\n",
    "    information.append(a)\n",
    "print(information)\n"
   ]
  },
  {
   "cell_type": "code",
   "execution_count": 35,
   "id": "f7829a4f-5603-45db-a933-753fa653939e",
   "metadata": {},
   "outputs": [
    {
     "data": {
      "text/plain": [
       "[1, 'XYZ', 84.9]"
      ]
     },
     "execution_count": 35,
     "metadata": {},
     "output_type": "execute_result"
    }
   ],
   "source": [
    "information=[1,\"XYZ\",84.9,'a']\n",
    "information[0:3]\n"
   ]
  },
  {
   "cell_type": "code",
   "execution_count": 29,
   "id": "e5ed506f-697b-493a-956e-913c6506b0a3",
   "metadata": {},
   "outputs": [
    {
     "data": {
      "text/plain": [
       "[]"
      ]
     },
     "execution_count": 29,
     "metadata": {},
     "output_type": "execute_result"
    }
   ],
   "source": [
    "information=[1,\"XYZ\",84.9,'a']\n",
    "information[:0]"
   ]
  },
  {
   "cell_type": "code",
   "execution_count": 33,
   "id": "b2ef05e4-0ddd-4135-ad48-faacdfc12399",
   "metadata": {},
   "outputs": [
    {
     "data": {
      "text/plain": [
       "['XYZ', 84.9, 'a']"
      ]
     },
     "execution_count": 33,
     "metadata": {},
     "output_type": "execute_result"
    }
   ],
   "source": [
    "information=[1,\"XYZ\",84.9,'a']\n",
    "information[1:]"
   ]
  },
  {
   "cell_type": "code",
   "execution_count": 39,
   "id": "4c62c195-c79f-410c-9b19-20b11b5ab0d3",
   "metadata": {},
   "outputs": [
    {
     "data": {
      "text/plain": [
       "[1, 'h', 'o']"
      ]
     },
     "execution_count": 39,
     "metadata": {},
     "output_type": "execute_result"
    }
   ],
   "source": [
    "information=[1,\"XYZ\",84.9,'a','h','e','l','l','o']\n",
    "information[::4]"
   ]
  },
  {
   "cell_type": "code",
   "execution_count": 41,
   "id": "78b33d8c-b036-452f-ad1d-d6dc8e140257",
   "metadata": {},
   "outputs": [
    {
     "data": {
      "text/plain": [
       "['XYZ', 'a', 'e']"
      ]
     },
     "execution_count": 41,
     "metadata": {},
     "output_type": "execute_result"
    }
   ],
   "source": [
    "information=[1,\"XYZ\",84.9,'a','h','e','l','l','o']\n",
    "information[1:6:2]"
   ]
  },
  {
   "cell_type": "code",
   "execution_count": 43,
   "id": "d5a8143a-a9a7-444d-b890-bd3cdc3cc488",
   "metadata": {},
   "outputs": [
    {
     "data": {
      "text/plain": [
       "[1, 'a', 'l']"
      ]
     },
     "execution_count": 43,
     "metadata": {},
     "output_type": "execute_result"
    }
   ],
   "source": [
    "information=[1,\"XYZ\",84.9,'a','h','e','l','l','o']\n",
    "information[::3]"
   ]
  },
  {
   "cell_type": "code",
   "execution_count": 45,
   "id": "eb982abd-f691-4303-9e89-fa634703e13b",
   "metadata": {},
   "outputs": [
    {
     "data": {
      "text/plain": [
       "['o', 'l', 'l', 'e', 'h', 'a', 84.9, 'XYZ', 1]"
      ]
     },
     "execution_count": 45,
     "metadata": {},
     "output_type": "execute_result"
    }
   ],
   "source": [
    "information=[1,\"XYZ\",84.9,'a','h','e','l','l','o']\n",
    "information[::-1]"
   ]
  },
  {
   "cell_type": "code",
   "execution_count": 47,
   "id": "c6bea6cc-2aa2-431a-8811-47333a802a78",
   "metadata": {},
   "outputs": [
    {
     "name": "stdout",
     "output_type": "stream",
     "text": [
      "[2, 'STU', 8.58, 'Female', 'India', '9553280446']\n"
     ]
    }
   ],
   "source": [
    "student_2=[2,\"STU\",8.58,\"Female\",\"India\",\"9553280446\"]\n",
    "print(student_2)"
   ]
  },
  {
   "cell_type": "code",
   "execution_count": 61,
   "id": "952f8e6c-ca74-40fd-b88c-b7b0357dfff6",
   "metadata": {},
   "outputs": [
    {
     "data": {
      "text/plain": [
       "['9553280446', 8.58]"
      ]
     },
     "execution_count": 61,
     "metadata": {},
     "output_type": "execute_result"
    }
   ],
   "source": [
    "student_2=[2,\"STU\",8.58,\"Female\",\"India\",\"9553280446\"]\n",
    "student_2[::-3]"
   ]
  },
  {
   "cell_type": "code",
   "execution_count": 63,
   "id": "81fb4433-3b21-4997-b235-4651a8cc3a11",
   "metadata": {},
   "outputs": [
    {
     "data": {
      "text/plain": [
       "[2, 8.58, 'India']"
      ]
     },
     "execution_count": 63,
     "metadata": {},
     "output_type": "execute_result"
    }
   ],
   "source": [
    "student_2[::2]"
   ]
  },
  {
   "cell_type": "code",
   "execution_count": 89,
   "id": "a2a74f14-b342-4584-a827-65b0ffed32c2",
   "metadata": {},
   "outputs": [
    {
     "name": "stdin",
     "output_type": "stream",
     "text": [
      "enter the value 1\n"
     ]
    },
    {
     "name": "stdout",
     "output_type": "stream",
     "text": [
      "1111111111111111111111111111111111111111111111111111111111111111111111111111111111111111111111111111\n",
      "100\n"
     ]
    }
   ],
   "source": [
    "list=input(\"enter the value\")\n",
    "list*=100\n",
    "print(list)\n",
    "print(len(list))"
   ]
  },
  {
   "cell_type": "code",
   "execution_count": 91,
   "id": "7c0de760-ed91-43c0-876f-e74d57d72074",
   "metadata": {},
   "outputs": [
    {
     "name": "stdin",
     "output_type": "stream",
     "text": [
      " 1\n"
     ]
    },
    {
     "data": {
      "text/plain": [
       "[1,\n",
       " 1,\n",
       " 1,\n",
       " 1,\n",
       " 1,\n",
       " 1,\n",
       " 1,\n",
       " 1,\n",
       " 1,\n",
       " 1,\n",
       " 1,\n",
       " 1,\n",
       " 1,\n",
       " 1,\n",
       " 1,\n",
       " 1,\n",
       " 1,\n",
       " 1,\n",
       " 1,\n",
       " 1,\n",
       " 1,\n",
       " 1,\n",
       " 1,\n",
       " 1,\n",
       " 1,\n",
       " 1,\n",
       " 1,\n",
       " 1,\n",
       " 1,\n",
       " 1,\n",
       " 1,\n",
       " 1,\n",
       " 1,\n",
       " 1,\n",
       " 1,\n",
       " 1,\n",
       " 1,\n",
       " 1,\n",
       " 1,\n",
       " 1,\n",
       " 1,\n",
       " 1,\n",
       " 1,\n",
       " 1,\n",
       " 1,\n",
       " 1,\n",
       " 1,\n",
       " 1,\n",
       " 1,\n",
       " 1,\n",
       " 1,\n",
       " 1,\n",
       " 1,\n",
       " 1,\n",
       " 1,\n",
       " 1,\n",
       " 1,\n",
       " 1,\n",
       " 1,\n",
       " 1,\n",
       " 1,\n",
       " 1,\n",
       " 1,\n",
       " 1,\n",
       " 1,\n",
       " 1,\n",
       " 1,\n",
       " 1,\n",
       " 1,\n",
       " 1,\n",
       " 1,\n",
       " 1,\n",
       " 1,\n",
       " 1,\n",
       " 1,\n",
       " 1,\n",
       " 1,\n",
       " 1,\n",
       " 1,\n",
       " 1,\n",
       " 1,\n",
       " 1,\n",
       " 1,\n",
       " 1,\n",
       " 1,\n",
       " 1,\n",
       " 1,\n",
       " 1,\n",
       " 1,\n",
       " 1,\n",
       " 1,\n",
       " 1,\n",
       " 1,\n",
       " 1,\n",
       " 1,\n",
       " 1,\n",
       " 1,\n",
       " 1,\n",
       " 1,\n",
       " 1]"
      ]
     },
     "execution_count": 91,
     "metadata": {},
     "output_type": "execute_result"
    }
   ],
   "source": [
    "x=int(input())\n",
    "a=[]\n",
    "a.append(x)\n",
    "a=a*100\n",
    "a"
   ]
  },
  {
   "cell_type": "code",
   "execution_count": 101,
   "id": "b2a080da-6e93-405a-b689-de2beee470c1",
   "metadata": {},
   "outputs": [
    {
     "name": "stdout",
     "output_type": "stream",
     "text": [
      "1\n",
      "3\n",
      "5\n",
      "7\n",
      "9\n",
      "11\n",
      "13\n",
      "15\n",
      "17\n",
      "19\n"
     ]
    }
   ],
   "source": [
    "for i in range(1,21,2):\n",
    "    print(i)\n",
    "\n"
   ]
  },
  {
   "cell_type": "code",
   "execution_count": 3,
   "id": "a93b1e3b-71ba-4d48-9187-c80ea2a7282e",
   "metadata": {},
   "outputs": [
    {
     "name": "stdout",
     "output_type": "stream",
     "text": [
      "1\n",
      "2\n",
      "3\n",
      "4\n",
      "5\n",
      "6\n",
      "7\n",
      "8\n",
      "9\n",
      "10\n",
      "1\n",
      "3\n",
      "5\n",
      "7\n",
      "9\n"
     ]
    }
   ],
   "source": [
    "a=[]\n",
    "for a in range(1,11):\n",
    "   print(a)\n",
    "n=[]\n",
    "for n in range(1,11,2):\n",
    "    print(n)\n"
   ]
  },
  {
   "cell_type": "code",
   "execution_count": 1,
   "id": "d2f16875-f491-4608-8892-72e2454bd4b0",
   "metadata": {},
   "outputs": [
    {
     "name": "stdout",
     "output_type": "stream",
     "text": [
      "[1, 2, 3, 4, 5, 6, 7, 8, 9, 10]\n",
      "[1, 3, 5, 7, 9]\n"
     ]
    }
   ],
   "source": [
    "list = list(range(1,11))\n",
    "odd = list[::2]\n",
    "print(list)\n",
    "print(odd)"
   ]
  },
  {
   "cell_type": "code",
   "execution_count": 7,
   "id": "fa20c6d6-5f56-4794-b532-68118e47798a",
   "metadata": {},
   "outputs": [
    {
     "name": "stdout",
     "output_type": "stream",
     "text": [
      "[1, 3, 5, 7, 9]\n"
     ]
    }
   ],
   "source": [
    "list_1 = list(range(1,11,2))\n",
    "print(list_1)"
   ]
  },
  {
   "cell_type": "code",
   "execution_count": 11,
   "id": "d81916ae-9575-478f-98f5-300cf4bcffc8",
   "metadata": {},
   "outputs": [
    {
     "name": "stdout",
     "output_type": "stream",
     "text": [
      "[2, 4, 6, 8, 10]\n"
     ]
    }
   ],
   "source": [
    "list = list(range(1,11))\n",
    "even = list[1::2]\n",
    "print(even)"
   ]
  },
  {
   "cell_type": "code",
   "execution_count": 13,
   "id": "b6131f13-0cfc-4ae7-99e1-be7f5d93592a",
   "metadata": {},
   "outputs": [
    {
     "name": "stdout",
     "output_type": "stream",
     "text": [
      "['apple', 'banana', 2, 2.6, 'hello']\n"
     ]
    }
   ],
   "source": [
    "char = [\"apple\",\"banana\"]\n",
    "char2 = [2,2.6,\"hello\"]\n",
    "merge = char+char2\n",
    "print(merge)"
   ]
  },
  {
   "cell_type": "code",
   "execution_count": 1,
   "id": "7b69fad9-bd08-49a3-b47f-b6a166b46197",
   "metadata": {},
   "outputs": [
    {
     "name": "stdin",
     "output_type": "stream",
     "text": [
      " nandu\n"
     ]
    },
    {
     "name": "stdout",
     "output_type": "stream",
     "text": [
      "['n', 'a', 'n', 'd', 'u']\n"
     ]
    }
   ],
   "source": [
    "n=input()\n",
    "a=[]\n",
    "for i in n:\n",
    "    a.append(i)\n",
    "print(a)    "
   ]
  },
  {
   "cell_type": "code",
   "execution_count": 3,
   "id": "26408ba3-a119-43b4-8a0d-ec850c30f751",
   "metadata": {},
   "outputs": [
    {
     "name": "stdin",
     "output_type": "stream",
     "text": [
      " preethi\n"
     ]
    },
    {
     "data": {
      "text/plain": [
       "['p', 'r', 'e', 'e', 't', 'h', 'i']"
      ]
     },
     "execution_count": 3,
     "metadata": {},
     "output_type": "execute_result"
    }
   ],
   "source": [
    "string = input()\n",
    "list_1 = list(string)\n",
    "list_1"
   ]
  },
  {
   "cell_type": "code",
   "execution_count": 15,
   "id": "e8021dce-0b79-4500-9161-8a2e9bf93526",
   "metadata": {},
   "outputs": [
    {
     "name": "stdin",
     "output_type": "stream",
     "text": [
      "enter first value:  happy\n",
      "enter the second value:  day\n"
     ]
    },
    {
     "name": "stdout",
     "output_type": "stream",
     "text": [
      "['h', 'a', 'p', 'p', 'y', 'd', 'a', 'y']\n"
     ]
    }
   ],
   "source": [
    "list_1 = list(input(\"enter first value: \"))\n",
    "list_2 = list(input(\"enter the second value: \"))\n",
    "merge = list_1 + list_2\n",
    "print(merge)"
   ]
  },
  {
   "cell_type": "code",
   "execution_count": null,
   "id": "2405822c-6534-4f3d-a6a4-14539f301a01",
   "metadata": {},
   "outputs": [],
   "source": []
  }
 ],
 "metadata": {
  "kernelspec": {
   "display_name": "Python 3 (ipykernel)",
   "language": "python",
   "name": "python3"
  },
  "language_info": {
   "codemirror_mode": {
    "name": "ipython",
    "version": 3
   },
   "file_extension": ".py",
   "mimetype": "text/x-python",
   "name": "python",
   "nbconvert_exporter": "python",
   "pygments_lexer": "ipython3",
   "version": "3.12.4"
  }
 },
 "nbformat": 4,
 "nbformat_minor": 5
}
