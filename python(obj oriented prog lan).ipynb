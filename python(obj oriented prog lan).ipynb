{
 "cells": [
  {
   "cell_type": "code",
   "execution_count": 2,
   "id": "dfeffebd-59e3-4e00-8cd9-c789880d20f0",
   "metadata": {},
   "outputs": [
    {
     "name": "stdout",
     "output_type": "stream",
     "text": [
      "{1, 2, 3}\n"
     ]
    }
   ],
   "source": [
    "x={1,2,3}\n",
    "print(x)"
   ]
  },
  {
   "cell_type": "code",
   "execution_count": 8,
   "id": "6fad3e07-ea00-471d-abf4-67fb37683cc6",
   "metadata": {},
   "outputs": [
    {
     "name": "stdout",
     "output_type": "stream",
     "text": [
      "Welcome to oops Concept\n"
     ]
    }
   ],
   "source": [
    "class Python:\n",
    "    def fun(self):\n",
    "        print(\"Welcome to oops Concept\")\n",
    "pyt = Python()\n",
    "pyt.fun()\n",
    "    "
   ]
  },
  {
   "cell_type": "code",
   "execution_count": 2,
   "id": "ef63672c-f256-413b-bfad-300cf4ccd698",
   "metadata": {},
   "outputs": [
    {
     "name": "stdout",
     "output_type": "stream",
     "text": [
      "Name:  Audi  Id:  20000000\n"
     ]
    }
   ],
   "source": [
    "#class nd objects\n",
    "class car:\n",
    "    'common_car'\n",
    "    car=0\n",
    "    def __init__(self,name,id):\n",
    "        self.name = name\n",
    "        self.id = id\n",
    "        car.car +=1\n",
    "    def printCardata(self):\n",
    "        print(\"Name: \",self.name,\"Id: \",self.id)\n",
    "c=car(\"Audi \",20000000)\n",
    "c.printCardata()\n",
    "        "
   ]
  },
  {
   "cell_type": "code",
   "execution_count": 56,
   "id": "30528590-9624-4464-8ddc-9e8a9baa3974",
   "metadata": {},
   "outputs": [
    {
     "name": "stdout",
     "output_type": "stream",
     "text": [
      "Name:  Preethi  Age:  20  Salary:  1000000\n"
     ]
    }
   ],
   "source": [
    "class Person:\n",
    "    def __init__(self,name,age,salary):\n",
    "        self.name = name\n",
    "        self.age = age\n",
    "        self.salary = salary\n",
    "    def printPersondata(self):\n",
    "        print(\"Name: \",self.name,\" Age: \",self.age,\" Salary: \",self.salary)\n",
    "c=Person(\"Preethi\",20, 1000000)\n",
    "c.printPersondata()"
   ]
  },
  {
   "cell_type": "code",
   "execution_count": 52,
   "id": "a6c4822f-8cea-42bd-90af-26e9a0822a32",
   "metadata": {},
   "outputs": [
    {
     "name": "stdout",
     "output_type": "stream",
     "text": [
      "Name:  Preethi  Age:  20  Salary:  1000000\n"
     ]
    }
   ],
   "source": [
    "e1 = Person(\"Preethi\",20,1000000)\n",
    "e1.printPersondata()"
   ]
  },
  {
   "cell_type": "code",
   "execution_count": 80,
   "id": "0b5b0cb1-4dae-42fd-8718-1e5598da426c",
   "metadata": {},
   "outputs": [
    {
     "name": "stdout",
     "output_type": "stream",
     "text": [
      "Name: Peacock  Color: Multicolor  Legs: 2\n"
     ]
    }
   ],
   "source": [
    "class Birds:\n",
    "    def __init__(self,name,color,legs):\n",
    "        self.name = name\n",
    "        self.color = color\n",
    "        self.legs = legs\n",
    "    def printBirdsdata(self):\n",
    "        print(\"Name:\",self.name,\" Color:\",self.color,\" Legs:\",self.legs)\n",
    "a=Birds(\"Peacock\",\"Multicolor\",2)\n",
    "a.printBirdsdata()"
   ]
  },
  {
   "cell_type": "code",
   "execution_count": 82,
   "id": "4d8501c2-9817-477c-8684-d67242823a81",
   "metadata": {},
   "outputs": [
    {
     "name": "stdout",
     "output_type": "stream",
     "text": [
      "Name: Peacock  Color: Multicolor  Legs: 2\n"
     ]
    }
   ],
   "source": [
    "e1 = Birds(\"Peacock\",\"Multicolor\",2)\n",
    "e1.printBirdsdata()"
   ]
  },
  {
   "cell_type": "code",
   "execution_count": 8,
   "id": "f17bf02a-3815-406c-8380-5690d5666c38",
   "metadata": {},
   "outputs": [
    {
     "name": "stdout",
     "output_type": "stream",
     "text": [
      "positive\n",
      "negative\n",
      "Invalid\n"
     ]
    }
   ],
   "source": [
    "class Number:\n",
    "    def __init__(self,number):\n",
    "        self.number = number\n",
    "    def check(self):\n",
    "        if(self.number>0):\n",
    "            print(\"positive\")\n",
    "        elif(self.number<0):\n",
    "            print(\"negative\")\n",
    "        else:\n",
    "            print(\"Invalid\")\n",
    "a = Number(5)\n",
    "a.check()\n",
    "a = Number(-9)\n",
    "a.check()\n",
    "a = Number(0)\n",
    "a.check()"
   ]
  },
  {
   "cell_type": "code",
   "execution_count": 3,
   "id": "01d7ffef-46bc-4a48-9581-df1b7851cd51",
   "metadata": {},
   "outputs": [
    {
     "name": "stdout",
     "output_type": "stream",
     "text": [
      "hello\n",
      "1.0\n"
     ]
    }
   ],
   "source": [
    "class Test:\n",
    "    x=1.0\n",
    "    def __init__(self):\n",
    "        print('hello')\n",
    "t=Test()\n",
    "print(Test.x)"
   ]
  },
  {
   "cell_type": "code",
   "execution_count": 9,
   "id": "89e92159-0484-44c9-96fc-1f5f6018b153",
   "metadata": {},
   "outputs": [
    {
     "name": "stdout",
     "output_type": "stream",
     "text": [
      "Total Cars= 3\n",
      "Name:  Audi  Id:  20000000\n",
      "Name:  BMW  Id:  30000000\n",
      "Name:  Benz  Id:  40000000\n"
     ]
    }
   ],
   "source": [
    "class car:\n",
    "    'common_car'\n",
    "    car=0\n",
    "    def __init__(self,name,id):\n",
    "        self.name = name\n",
    "        self.id = id\n",
    "        car.car +=1\n",
    "    def printCardata(self):\n",
    "        print(\"Name: \",self.name,\"Id: \",self.id)\n",
    "c=car(\"Audi \",20000000)\n",
    "c1=car(\"BMW \",30000000)\n",
    "c2=car(\"Benz \",40000000)\n",
    "print(\"Total Cars=\",car.car)\n",
    "c.printCardata()\n",
    "c1.printCardata()\n",
    "c2.printCardata()\n",
    "\n",
    "        "
   ]
  },
  {
   "cell_type": "code",
   "execution_count": 13,
   "id": "f9ebdd6e-091c-4566-8753-385e935f420f",
   "metadata": {},
   "outputs": [
    {
     "name": "stdout",
     "output_type": "stream",
     "text": [
      "car\n"
     ]
    }
   ],
   "source": [
    "class test:\n",
    "    def __init__(self):\n",
    "        self.variable = 'car'\n",
    "        self.change(self.variable)\n",
    "    def change(self,var):\n",
    "        var = 'Bike'\n",
    "obj=test()\n",
    "print(obj.variable)\n"
   ]
  },
  {
   "cell_type": "code",
   "execution_count": null,
   "id": "f083eaa1-77c9-4828-a9ef-8de451960e89",
   "metadata": {},
   "outputs": [],
   "source": []
  }
 ],
 "metadata": {
  "kernelspec": {
   "display_name": "Python 3 (ipykernel)",
   "language": "python",
   "name": "python3"
  },
  "language_info": {
   "codemirror_mode": {
    "name": "ipython",
    "version": 3
   },
   "file_extension": ".py",
   "mimetype": "text/x-python",
   "name": "python",
   "nbconvert_exporter": "python",
   "pygments_lexer": "ipython3",
   "version": "3.12.4"
  }
 },
 "nbformat": 4,
 "nbformat_minor": 5
}
