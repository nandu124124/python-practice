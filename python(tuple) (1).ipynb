{
 "cells": [
  {
   "cell_type": "code",
   "execution_count": 2,
   "id": "e1b37f4a-61d7-4be1-b144-eb87364104dd",
   "metadata": {},
   "outputs": [
    {
     "name": "stdout",
     "output_type": "stream",
     "text": [
      "()\n"
     ]
    }
   ],
   "source": [
    "empty_tuple =()\n",
    "print (empty_tuple)"
   ]
  },
  {
   "cell_type": "code",
   "execution_count": 4,
   "id": "ebb5d23f-e555-4723-8316-9016446d6669",
   "metadata": {},
   "outputs": [
    {
     "name": "stdout",
     "output_type": "stream",
     "text": [
      "(25, 45, 32)\n"
     ]
    }
   ],
   "source": [
    "value_tuple = 25,45,32\n",
    "print(value_tuple)"
   ]
  },
  {
   "cell_type": "code",
   "execution_count": 6,
   "id": "91eaeca4-634e-4af8-8448-adda04bba1b8",
   "metadata": {},
   "outputs": [
    {
     "name": "stdout",
     "output_type": "stream",
     "text": [
      "(2.69, 18, 'apple')\n"
     ]
    }
   ],
   "source": [
    "value_tuple2 = (2.69,18,'apple')\n",
    "print(value_tuple2)"
   ]
  },
  {
   "cell_type": "code",
   "execution_count": 16,
   "id": "ee6f40c1-696a-44c7-bc0a-f19d31c4f079",
   "metadata": {},
   "outputs": [
    {
     "name": "stdout",
     "output_type": "stream",
     "text": [
      "hello <class 'str'>\n"
     ]
    }
   ],
   "source": [
    "tuple = ('hello')\n",
    "print(tuple, type(tuple))\n"
   ]
  },
  {
   "cell_type": "code",
   "execution_count": 14,
   "id": "bdde720d-458e-4c1a-8f8a-dd3f8331a64c",
   "metadata": {},
   "outputs": [
    {
     "name": "stdout",
     "output_type": "stream",
     "text": [
      "('hello',) <class 'tuple'>\n"
     ]
    }
   ],
   "source": [
    "tuple = ('hello',)\n",
    "print(tuple, type(tuple))\n"
   ]
  },
  {
   "cell_type": "code",
   "execution_count": 18,
   "id": "bbbada1b-016d-4710-9f77-d4d1bd0a7f23",
   "metadata": {},
   "outputs": [
    {
     "ename": "TypeError",
     "evalue": "'tuple' object does not support item assignment",
     "output_type": "error",
     "traceback": [
      "\u001b[1;31m---------------------------------------------------------------------------\u001b[0m",
      "\u001b[1;31mTypeError\u001b[0m                                 Traceback (most recent call last)",
      "Cell \u001b[1;32mIn[18], line 2\u001b[0m\n\u001b[0;32m      1\u001b[0m value_tuple \u001b[38;5;241m=\u001b[39m (\u001b[38;5;241m26\u001b[39m,\u001b[38;5;241m45\u001b[39m,\u001b[38;5;124m'\u001b[39m\u001b[38;5;124mhello\u001b[39m\u001b[38;5;124m'\u001b[39m)\n\u001b[1;32m----> 2\u001b[0m value_tuple[\u001b[38;5;241m1\u001b[39m] \u001b[38;5;241m=\u001b[39m \u001b[38;5;241m7\u001b[39m\n\u001b[0;32m      3\u001b[0m \u001b[38;5;28mprint\u001b[39m(tuple_value)\n",
      "\u001b[1;31mTypeError\u001b[0m: 'tuple' object does not support item assignment"
     ]
    }
   ],
   "source": [
    "#we cannot change the values in tuple ,hence its an error\n",
    "value_tuple = (26,45,'hello')\n",
    "value_tuple[1] = 7\n",
    "print(tuple_value)"
   ]
  },
  {
   "cell_type": "code",
   "execution_count": 30,
   "id": "8c7dffa4-ee08-45fc-bf2a-c8ee8ff9cd29",
   "metadata": {},
   "outputs": [
    {
     "name": "stdout",
     "output_type": "stream",
     "text": [
      "(25, 45, 'hello', 7, 5.5, 'python')\n"
     ]
    }
   ],
   "source": [
    "value1_tuple = (25,45,'hello')\n",
    "value2_tuple = (7,5.5,\"python\")\n",
    "print(value1_tuple+value2_tuple)"
   ]
  },
  {
   "cell_type": "code",
   "execution_count": 28,
   "id": "a5491342-887a-402c-99cb-8c13f9b9ca32",
   "metadata": {},
   "outputs": [
    {
     "name": "stdout",
     "output_type": "stream",
     "text": [
      "((25, 45, 'hello'), (7, 5.5, 'python'))\n"
     ]
    }
   ],
   "source": [
    "value1_tuple = (25,45,'hello')\n",
    "value2_tuple = (7,5.5,\"python\")\n",
    "value3_tuple = value1_tuple,value2_tuple\n",
    "print(value3_tuple)"
   ]
  },
  {
   "cell_type": "code",
   "execution_count": 32,
   "id": "63b4675e-0ca7-4b94-8de0-61757fdd10fd",
   "metadata": {},
   "outputs": [
    {
     "name": "stdout",
     "output_type": "stream",
     "text": [
      "(25, 45, 'hello', 25, 45, 'hello')\n"
     ]
    }
   ],
   "source": [
    "value_tuple = (25,45,'hello')*2\n",
    "print(value_tuple)"
   ]
  },
  {
   "cell_type": "code",
   "execution_count": 34,
   "id": "15c0d856-25cf-446f-9a8e-485c25422b10",
   "metadata": {},
   "outputs": [],
   "source": [
    "#accessing values in tuple\n",
    "value_tuple = (25,45,'hello')\n",
    "value2_tuple = (7,5.5,\"python\")"
   ]
  },
  {
   "cell_type": "code",
   "execution_count": 38,
   "id": "b1e12b91-a705-456b-8ac7-98b95011ed6a",
   "metadata": {},
   "outputs": [
    {
     "name": "stdout",
     "output_type": "stream",
     "text": [
      "7.5\n"
     ]
    }
   ],
   "source": [
    "value_tuple = (25,45,'hello',7.5)\n",
    "print(value_tuple[3])"
   ]
  },
  {
   "cell_type": "code",
   "execution_count": 40,
   "id": "c9b1a0df-380c-4b23-8150-98ed397adccb",
   "metadata": {},
   "outputs": [
    {
     "name": "stdout",
     "output_type": "stream",
     "text": [
      "(25, 45, 'hello', 7.5)\n"
     ]
    }
   ],
   "source": [
    "value_tuple = (25,45,'hello',7.5)\n",
    "print(value_tuple[0:])"
   ]
  },
  {
   "cell_type": "code",
   "execution_count": 74,
   "id": "168319a7-1325-4af8-83dd-e3cdfb19ca7c",
   "metadata": {},
   "outputs": [
    {
     "name": "stdout",
     "output_type": "stream",
     "text": [
      "(45, 'hello', 7.5)\n"
     ]
    }
   ],
   "source": [
    "value_tuple = (26,45,'hello',7.5,'z',5,6.9)\n",
    "print(value_tuple[1:4])"
   ]
  },
  {
   "cell_type": "code",
   "execution_count": 50,
   "id": "f55aba57-ff2a-450d-99ec-e45122c337b1",
   "metadata": {},
   "outputs": [
    {
     "name": "stdout",
     "output_type": "stream",
     "text": [
      "7.5\n"
     ]
    }
   ],
   "source": [
    "value_tuple = (25,45,'hello',7.5)\n",
    "print(value_tuple[-1])"
   ]
  },
  {
   "cell_type": "code",
   "execution_count": 76,
   "id": "afefb8f2-c371-4956-80c0-47d816e4a6c7",
   "metadata": {},
   "outputs": [
    {
     "name": "stdout",
     "output_type": "stream",
     "text": [
      "(45, 'hello', 7.5, 'z', 5, 6.9)\n"
     ]
    }
   ],
   "source": [
    "value_tuple = (26,45,'hello',7.5,'z',5,6.9)\n",
    "print(value_tuple[1::1])"
   ]
  },
  {
   "cell_type": "code",
   "execution_count": 78,
   "id": "1960d852-fa05-4e58-925f-de443867e492",
   "metadata": {},
   "outputs": [
    {
     "name": "stdout",
     "output_type": "stream",
     "text": [
      "(45, 'z')\n"
     ]
    }
   ],
   "source": [
    "value_tuple = (26,45,'hello',7.5,'z',5,6.9)\n",
    "print(value_tuple[1::3])"
   ]
  },
  {
   "cell_type": "code",
   "execution_count": 80,
   "id": "cd6349a7-6693-421a-8da9-ca8dbb9660ce",
   "metadata": {},
   "outputs": [
    {
     "name": "stdout",
     "output_type": "stream",
     "text": [
      "(6.9, 'z', 'hello', 26)\n"
     ]
    }
   ],
   "source": [
    "value_tuple = (26,45,'hello',7.5,'z',5,6.9)\n",
    "print(value_tuple[-1::-2])"
   ]
  },
  {
   "cell_type": "code",
   "execution_count": 82,
   "id": "762e2957-6e5e-4c8c-b6a1-050356803fb1",
   "metadata": {},
   "outputs": [
    {
     "name": "stdout",
     "output_type": "stream",
     "text": [
      "(45, 7.5, 5)\n"
     ]
    }
   ],
   "source": [
    "value_tuple = (26,45,'hello',7.5,'z',5,6.9)\n",
    "print(value_tuple[1:6:2])"
   ]
  },
  {
   "cell_type": "code",
   "execution_count": 84,
   "id": "3cad1955-9092-48f7-8328-4641075c6429",
   "metadata": {},
   "outputs": [
    {
     "name": "stdout",
     "output_type": "stream",
     "text": [
      "(45,)\n"
     ]
    }
   ],
   "source": [
    "value_tuple = (26,45,'hello',7.5,'z',5,6.9)\n",
    "print(value_tuple[1:3:2])"
   ]
  },
  {
   "cell_type": "code",
   "execution_count": 86,
   "id": "84372d8d-4ac2-404b-9f3b-da0b7a5c1c12",
   "metadata": {},
   "outputs": [
    {
     "name": "stdout",
     "output_type": "stream",
     "text": [
      "45\n",
      "(26, 45, 'hello', 7.5, 'z', 5, 6.9)\n"
     ]
    }
   ],
   "source": [
    "#deleting the tuple\n",
    "value_tuple = (26,45,'hello',7.5,'z',5,6.9)\n",
    "print(value_tuple[1])\n",
    "print(value_tuple)"
   ]
  },
  {
   "cell_type": "code",
   "execution_count": 92,
   "id": "2aab298b-3dc1-4f62-9d5c-c5b824342017",
   "metadata": {},
   "outputs": [
    {
     "name": "stdout",
     "output_type": "stream",
     "text": [
      "45\n"
     ]
    }
   ],
   "source": [
    "value_tuple = (26,45,'hello',7.5,'z',5,6.9)\n",
    "print(value_tuple[1])\n",
    "del(value_tuple)\n"
   ]
  },
  {
   "cell_type": "code",
   "execution_count": 4,
   "id": "629ff4d9-b3c8-436f-a10d-9cad59cba7e1",
   "metadata": {},
   "outputs": [
    {
     "name": "stdout",
     "output_type": "stream",
     "text": [
      "89\n",
      "4\n",
      "115\n"
     ]
    }
   ],
   "source": [
    "tuple =(9,5,89,4,8)\n",
    "print(max(tuple))\n",
    "print(min(tuple))\n",
    "print(sum(tuple))"
   ]
  },
  {
   "cell_type": "code",
   "execution_count": 6,
   "id": "0e92d23f-21dc-4559-a6e7-766627989729",
   "metadata": {},
   "outputs": [
    {
     "name": "stdout",
     "output_type": "stream",
     "text": [
      "True\n"
     ]
    }
   ],
   "source": [
    "tuple=(0,1)\n",
    "print(any(tuple))\n"
   ]
  },
  {
   "cell_type": "code",
   "execution_count": 8,
   "id": "84df9061-bce6-457d-851b-9bc4ff160e94",
   "metadata": {},
   "outputs": [
    {
     "name": "stdout",
     "output_type": "stream",
     "text": [
      "True\n"
     ]
    }
   ],
   "source": [
    "tuple =(4,1)\n",
    "print(all(tuple))"
   ]
  },
  {
   "cell_type": "code",
   "execution_count": 12,
   "id": "dda8681e-42c8-47a4-8d0b-2376faab2757",
   "metadata": {},
   "outputs": [
    {
     "name": "stdout",
     "output_type": "stream",
     "text": [
      "True\n"
     ]
    }
   ],
   "source": [
    "tuple = ()\n",
    "print(all(tuple))"
   ]
  },
  {
   "cell_type": "code",
   "execution_count": 14,
   "id": "5727c401-bd3f-4d02-b8e8-fb5b5914e87c",
   "metadata": {},
   "outputs": [
    {
     "name": "stdout",
     "output_type": "stream",
     "text": [
      "['apple', 'byte', 'computer']\n"
     ]
    }
   ],
   "source": [
    "tuple = (\"apple\",\"byte\",\"computer\")\n",
    "print(list(tuple))"
   ]
  },
  {
   "cell_type": "code",
   "execution_count": 24,
   "id": "e68f25f1-ccb5-4020-9eed-7eab98ec834a",
   "metadata": {},
   "outputs": [
    {
     "name": "stdout",
     "output_type": "stream",
     "text": [
      "(26, 45, 'hello')\n"
     ]
    },
    {
     "data": {
      "text/plain": [
       "list"
      ]
     },
     "execution_count": 24,
     "metadata": {},
     "output_type": "execute_result"
    }
   ],
   "source": [
    "value_tuple = (26,45,'hello')\n",
    "value=['a',]\n",
    "print(value_tuple)\n",
    "type(value)"
   ]
  },
  {
   "cell_type": "code",
   "execution_count": 30,
   "id": "d27bf155-5857-4307-8184-ee2a4fc67343",
   "metadata": {},
   "outputs": [
    {
     "name": "stdout",
     "output_type": "stream",
     "text": [
      "(26, 45, 'hello', 'hi')\n"
     ]
    },
    {
     "data": {
      "text/plain": [
       "str"
      ]
     },
     "execution_count": 30,
     "metadata": {},
     "output_type": "execute_result"
    }
   ],
   "source": [
    "value_tuple = (26,45,'hello','hi')\n",
    "value=('a')\n",
    "print(value_tuple)\n",
    "type(value)"
   ]
  },
  {
   "cell_type": "code",
   "execution_count": 32,
   "id": "bb1ae6d7-3b3f-48df-8e41-308f8ff3d762",
   "metadata": {},
   "outputs": [
    {
     "name": "stdout",
     "output_type": "stream",
     "text": [
      "(26, 45, 'hello')\n"
     ]
    },
    {
     "data": {
      "text/plain": [
       "tuple"
      ]
     },
     "execution_count": 32,
     "metadata": {},
     "output_type": "execute_result"
    }
   ],
   "source": [
    "value_tuple = (26,45,'hello')\n",
    "value=('a',)\n",
    "print(value_tuple)\n",
    "type(value)"
   ]
  },
  {
   "cell_type": "code",
   "execution_count": 34,
   "id": "861bb8a7-0a5c-4864-b663-a3e7d5b58cb2",
   "metadata": {},
   "outputs": [
    {
     "ename": "TypeError",
     "evalue": "'tuple' object does not support item assignment",
     "output_type": "error",
     "traceback": [
      "\u001b[1;31m---------------------------------------------------------------------------\u001b[0m",
      "\u001b[1;31mTypeError\u001b[0m                                 Traceback (most recent call last)",
      "Cell \u001b[1;32mIn[34], line 2\u001b[0m\n\u001b[0;32m      1\u001b[0m value_tuple \u001b[38;5;241m=\u001b[39m (\u001b[38;5;241m26\u001b[39m,\u001b[38;5;241m45\u001b[39m,\u001b[38;5;124m'\u001b[39m\u001b[38;5;124mhello\u001b[39m\u001b[38;5;124m'\u001b[39m,\u001b[38;5;241m7.5\u001b[39m)\n\u001b[1;32m----> 2\u001b[0m value_tuple[\u001b[38;5;241m2\u001b[39m]\u001b[38;5;241m=\u001b[39m\u001b[38;5;124m'\u001b[39m\u001b[38;5;124mpython\u001b[39m\u001b[38;5;124m'\u001b[39m\n\u001b[0;32m      3\u001b[0m \u001b[38;5;28mprint\u001b[39m(value_tuple)\n\u001b[0;32m      4\u001b[0m \u001b[38;5;28mtype\u001b[39m(value)\n",
      "\u001b[1;31mTypeError\u001b[0m: 'tuple' object does not support item assignment"
     ]
    }
   ],
   "source": [
    "#we cannot update the tuple since it was immutable\n",
    "value_tuple = (26,45,'hello',7.5)\n",
    "value_tuple[2]='python'\n",
    "print(value_tuple)"
   ]
  },
  {
   "cell_type": "code",
   "execution_count": 36,
   "id": "bea5f90d-8fe4-4eae-98c4-d53725d86723",
   "metadata": {},
   "outputs": [
    {
     "name": "stdout",
     "output_type": "stream",
     "text": [
      "(26, 46, 'hello', 7, 5.6, 'python')\n"
     ]
    }
   ],
   "source": [
    "value1_tuple = (26,46,'hello')\n",
    "value2_tuple = (7,5.6,'python')\n",
    "value = value1_tuple + value2_tuple\n",
    "print(value)"
   ]
  },
  {
   "cell_type": "code",
   "execution_count": 38,
   "id": "3c5dd096-a20e-4cde-ae63-7bbfd854aefe",
   "metadata": {},
   "outputs": [
    {
     "name": "stdout",
     "output_type": "stream",
     "text": [
      "((26, 46, 'hello'), (7, 5.6, 'python'))\n"
     ]
    }
   ],
   "source": [
    "#nesting can be used by comma also instead of plus(+)sign\n",
    "value1_tuple = (26,46,'hello')\n",
    "value2_tuple = (7,5.6,'python')\n",
    "value = value1_tuple,value2_tuple\n",
    "print(value)"
   ]
  },
  {
   "cell_type": "code",
   "execution_count": 40,
   "id": "0473d654-b679-4d85-956e-e130160b31dd",
   "metadata": {},
   "outputs": [
    {
     "name": "stdout",
     "output_type": "stream",
     "text": [
      "(26, 46, 'hello', 7)\n"
     ]
    }
   ],
   "source": [
    "#concatination is possible by giving element with comma then its considered as a tuple\n",
    "value1_tuple = (26,46,'hello')\n",
    "value = value1_tuple + (7,)\n",
    "print(value)"
   ]
  },
  {
   "cell_type": "code",
   "execution_count": 48,
   "id": "5a3dcbbf-4a1d-47c2-8e47-c5b10290eaa0",
   "metadata": {},
   "outputs": [
    {
     "name": "stdout",
     "output_type": "stream",
     "text": [
      "[26, 46, 'hello', 7]\n"
     ]
    }
   ],
   "source": [
    "value1_tuple = (26,46,'hello',7)\n",
    "converted_list=list(value1_tuple)\n",
    "print(converted_list)"
   ]
  },
  {
   "cell_type": "code",
   "execution_count": 7,
   "id": "6c12feec-c252-4682-95ec-a711a1bbb31d",
   "metadata": {},
   "outputs": [
    {
     "name": "stdout",
     "output_type": "stream",
     "text": [
      "(26, 46, 'hello')\n",
      "<class 'tuple'>\n"
     ]
    }
   ],
   "source": [
    "value1_tuple = (26,46,'hello')\n",
    "converted_tuple = tuple(value1_tuple)\n",
    "print(converted_tuple)\n",
    "print(type(converted_tuple))"
   ]
  },
  {
   "cell_type": "code",
   "execution_count": 54,
   "id": "95ae8a00-07a6-4518-a5f3-cd6de6679158",
   "metadata": {},
   "outputs": [
    {
     "name": "stdout",
     "output_type": "stream",
     "text": [
      "(26, 45, 'hello', 26, 45, 'hello')\n"
     ]
    }
   ],
   "source": [
    "#repetation in tuple\n",
    "value_tuple = (26,45,'hello')*2\n",
    "print(value_tuple)"
   ]
  },
  {
   "cell_type": "code",
   "execution_count": 5,
   "id": "42a33779-7ba1-4e86-bc35-0ecfec1e3269",
   "metadata": {},
   "outputs": [
    {
     "name": "stdin",
     "output_type": "stream",
     "text": [
      "enter the values:  2\n",
      " 5\n",
      " 8\n"
     ]
    },
    {
     "name": "stdout",
     "output_type": "stream",
     "text": [
      "(5, 8)\n"
     ]
    }
   ],
   "source": [
    "value = ()\n",
    "n = int(input(\"enter the values: \"))\n",
    "list_1 =[]\n",
    "for i in range(n):\n",
    "    list_1.append(int(input()))\n",
    "value = tuple(list_1)\n",
    "print(value)\n"
   ]
  },
  {
   "cell_type": "code",
   "execution_count": 15,
   "id": "91234975-ce53-4dff-9ed0-728ca21941c4",
   "metadata": {},
   "outputs": [
    {
     "name": "stdout",
     "output_type": "stream",
     "text": [
      "one\n",
      "two\n",
      "three\n",
      "four\n"
     ]
    }
   ],
   "source": [
    "#accessing the values in tuple\n",
    "number = ('one','two','three','four')\n",
    "i=0\n",
    "while i<len(number):\n",
    "    print(number[i])\n",
    "    i=i+1"
   ]
  },
  {
   "cell_type": "code",
   "execution_count": 11,
   "id": "27d2c77d-4097-4e4d-bce2-3cf1c88a75be",
   "metadata": {},
   "outputs": [
    {
     "name": "stdout",
     "output_type": "stream",
     "text": [
      "one\n",
      "two\n",
      "three\n",
      "four\n"
     ]
    }
   ],
   "source": [
    "number = ('one','two','three','four')\n",
    "for i in number:\n",
    "    print(i)"
   ]
  },
  {
   "cell_type": "code",
   "execution_count": 3,
   "id": "d23ecf05-8967-4c54-a01c-39665c957351",
   "metadata": {},
   "outputs": [
    {
     "name": "stdout",
     "output_type": "stream",
     "text": [
      "The value is found\n"
     ]
    }
   ],
   "source": [
    "value_tuple = (26,12,10,6,67,91,45,'hello',7.5,99,7,'Name')\n",
    "n=len(value_tuple)\n",
    "for i in value_tuple:\n",
    "    if i==45:\n",
    "        print(\"The value is found\")\n"
   ]
  },
  {
   "cell_type": "code",
   "execution_count": 7,
   "id": "c1d484a2-4c06-422f-ab2f-594f971ae2c1",
   "metadata": {},
   "outputs": [
    {
     "name": "stdout",
     "output_type": "stream",
     "text": [
      "one\n"
     ]
    }
   ],
   "source": [
    "#unpacking the tuples\n",
    "numbers = ('one','two','three','four')\n",
    "(a,b,c,d)=numbers\n",
    "print(a)"
   ]
  },
  {
   "cell_type": "code",
   "execution_count": 37,
   "id": "97aaeebd-d4a6-4b45-839a-cde131c3dc7d",
   "metadata": {},
   "outputs": [
    {
     "name": "stdout",
     "output_type": "stream",
     "text": [
      "<class 'list'>\n",
      "['one']\n"
     ]
    }
   ],
   "source": [
    "numbers = ('one','two','three','four')\n",
    "(*a,b,c,d)= (numbers)\n",
    "print (type(a))\n",
    "print(a)"
   ]
  },
  {
   "cell_type": "code",
   "execution_count": 33,
   "id": "1d3c7877-b9dc-4ee1-92a9-7803b973e227",
   "metadata": {},
   "outputs": [
    {
     "name": "stdout",
     "output_type": "stream",
     "text": [
      "one\n",
      "two three\n",
      "four\n"
     ]
    }
   ],
   "source": [
    "numbers = ('one','two','three','four')\n",
    "(a,*b,c) = numbers\n",
    "print(a)\n",
    "print(*b)\n",
    "print(c)"
   ]
  },
  {
   "cell_type": "code",
   "execution_count": null,
   "id": "7a737967-c500-4dee-973e-2d41c7831386",
   "metadata": {},
   "outputs": [],
   "source": []
  }
 ],
 "metadata": {
  "kernelspec": {
   "display_name": "Python 3 (ipykernel)",
   "language": "python",
   "name": "python3"
  },
  "language_info": {
   "codemirror_mode": {
    "name": "ipython",
    "version": 3
   },
   "file_extension": ".py",
   "mimetype": "text/x-python",
   "name": "python",
   "nbconvert_exporter": "python",
   "pygments_lexer": "ipython3",
   "version": "3.12.4"
  }
 },
 "nbformat": 4,
 "nbformat_minor": 5
}
