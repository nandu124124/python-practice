{
 "cells": [
  {
   "cell_type": "code",
   "execution_count": 2,
   "id": "dfeffebd-59e3-4e00-8cd9-c789880d20f0",
   "metadata": {},
   "outputs": [
    {
     "name": "stdout",
     "output_type": "stream",
     "text": [
      "{1, 2, 3}\n"
     ]
    }
   ],
   "source": [
    "x={1,2,3}\n",
    "print(x)"
   ]
  },
  {
   "cell_type": "code",
   "execution_count": 8,
   "id": "6fad3e07-ea00-471d-abf4-67fb37683cc6",
   "metadata": {},
   "outputs": [
    {
     "name": "stdout",
     "output_type": "stream",
     "text": [
      "Welcome to oops Concept\n"
     ]
    }
   ],
   "source": [
    "class Python:\n",
    "    def fun(self):\n",
    "        print(\"Welcome to oops Concept\")\n",
    "pyt = Python()\n",
    "pyt.fun()\n",
    "    "
   ]
  },
  {
   "cell_type": "code",
   "execution_count": 2,
   "id": "ef63672c-f256-413b-bfad-300cf4ccd698",
   "metadata": {},
   "outputs": [
    {
     "name": "stdout",
     "output_type": "stream",
     "text": [
      "Name:  Audi  Id:  20000000\n"
     ]
    }
   ],
   "source": [
    "#class nd objects\n",
    "class car:\n",
    "    'common_car'\n",
    "    car=0\n",
    "    def __init__(self,name,id):\n",
    "        self.name = name\n",
    "        self.id = id\n",
    "        car.car +=1\n",
    "    def printCardata(self):\n",
    "        print(\"Name: \",self.name,\"Id: \",self.id)\n",
    "c=car(\"Audi \",20000000)\n",
    "c.printCardata()\n",
    "        "
   ]
  },
  {
   "cell_type": "code",
   "execution_count": 56,
   "id": "30528590-9624-4464-8ddc-9e8a9baa3974",
   "metadata": {},
   "outputs": [
    {
     "name": "stdout",
     "output_type": "stream",
     "text": [
      "Name:  Preethi  Age:  20  Salary:  1000000\n"
     ]
    }
   ],
   "source": [
    "class Person:\n",
    "    def __init__(self,name,age,salary):\n",
    "        self.name = name\n",
    "        self.age = age\n",
    "        self.salary = salary\n",
    "    def printPersondata(self):\n",
    "        print(\"Name: \",self.name,\" Age: \",self.age,\" Salary: \",self.salary)\n",
    "c=Person(\"Preethi\",20, 1000000)\n",
    "c.printPersondata()"
   ]
  },
  {
   "cell_type": "code",
   "execution_count": 52,
   "id": "a6c4822f-8cea-42bd-90af-26e9a0822a32",
   "metadata": {},
   "outputs": [
    {
     "name": "stdout",
     "output_type": "stream",
     "text": [
      "Name:  Preethi  Age:  20  Salary:  1000000\n"
     ]
    }
   ],
   "source": [
    "e1 = Person(\"Preethi\",20,1000000)\n",
    "e1.printPersondata()"
   ]
  },
  {
   "cell_type": "code",
   "execution_count": 80,
   "id": "0b5b0cb1-4dae-42fd-8718-1e5598da426c",
   "metadata": {},
   "outputs": [
    {
     "name": "stdout",
     "output_type": "stream",
     "text": [
      "Name: Peacock  Color: Multicolor  Legs: 2\n"
     ]
    }
   ],
   "source": [
    "class Birds:\n",
    "    def __init__(self,name,color,legs):\n",
    "        self.name = name\n",
    "        self.color = color\n",
    "        self.legs = legs\n",
    "    def printBirdsdata(self):\n",
    "        print(\"Name:\",self.name,\" Color:\",self.color,\" Legs:\",self.legs)\n",
    "a=Birds(\"Peacock\",\"Multicolor\",2)\n",
    "a.printBirdsdata()"
   ]
  },
  {
   "cell_type": "code",
   "execution_count": 82,
   "id": "4d8501c2-9817-477c-8684-d67242823a81",
   "metadata": {},
   "outputs": [
    {
     "name": "stdout",
     "output_type": "stream",
     "text": [
      "Name: Peacock  Color: Multicolor  Legs: 2\n"
     ]
    }
   ],
   "source": [
    "e1 = Birds(\"Peacock\",\"Multicolor\",2)\n",
    "e1.printBirdsdata()"
   ]
  },
  {
   "cell_type": "code",
   "execution_count": 8,
   "id": "f17bf02a-3815-406c-8380-5690d5666c38",
   "metadata": {},
   "outputs": [
    {
     "name": "stdout",
     "output_type": "stream",
     "text": [
      "positive\n",
      "negative\n",
      "Invalid\n"
     ]
    }
   ],
   "source": [
    "class Number:\n",
    "    def __init__(self,number):\n",
    "        self.number = number\n",
    "    def check(self):\n",
    "        if(self.number>0):\n",
    "            print(\"positive\")\n",
    "        elif(self.number<0):\n",
    "            print(\"negative\")\n",
    "        else:\n",
    "            print(\"Invalid\")\n",
    "a = Number(5)\n",
    "a.check()\n",
    "a = Number(-9)\n",
    "a.check()\n",
    "a = Number(0)\n",
    "a.check()"
   ]
  },
  {
   "cell_type": "code",
   "execution_count": 3,
   "id": "01d7ffef-46bc-4a48-9581-df1b7851cd51",
   "metadata": {},
   "outputs": [
    {
     "name": "stdout",
     "output_type": "stream",
     "text": [
      "hello\n",
      "1.0\n"
     ]
    }
   ],
   "source": [
    "class Test:\n",
    "    x=1.0\n",
    "    def __init__(self):\n",
    "        print('hello')\n",
    "t=Test()\n",
    "print(Test.x)"
   ]
  },
  {
   "cell_type": "code",
   "execution_count": 9,
   "id": "89e92159-0484-44c9-96fc-1f5f6018b153",
   "metadata": {},
   "outputs": [
    {
     "name": "stdout",
     "output_type": "stream",
     "text": [
      "Total Cars= 3\n",
      "Name:  Audi  Id:  20000000\n",
      "Name:  BMW  Id:  30000000\n",
      "Name:  Benz  Id:  40000000\n"
     ]
    }
   ],
   "source": [
    "class car:\n",
    "    'common_car'\n",
    "    car=0\n",
    "    def __init__(self,name,id):\n",
    "        self.name = name\n",
    "        self.id = id\n",
    "        car.car +=1\n",
    "    def printCardata(self):\n",
    "        print(\"Name: \",self.name,\"Id: \",self.id)\n",
    "c=car(\"Audi \",20000000)\n",
    "c1=car(\"BMW \",30000000)\n",
    "c2=car(\"Benz \",40000000)\n",
    "print(\"Total Cars=\",car.car)\n",
    "c.printCardata()\n",
    "c1.printCardata()\n",
    "c2.printCardata()\n",
    "\n",
    "        "
   ]
  },
  {
   "cell_type": "code",
   "execution_count": 13,
   "id": "f9ebdd6e-091c-4566-8753-385e935f420f",
   "metadata": {},
   "outputs": [
    {
     "name": "stdout",
     "output_type": "stream",
     "text": [
      "car\n"
     ]
    }
   ],
   "source": [
    "class test:\n",
    "    def __init__(self):\n",
    "        self.variable = 'car'\n",
    "        self.change(self.variable)\n",
    "    def change(self,var):\n",
    "        var = 'Bike'\n",
    "obj=test()\n",
    "print(obj.variable)\n"
   ]
  },
  {
   "cell_type": "code",
   "execution_count": 34,
   "id": "f083eaa1-77c9-4828-a9ef-8de451960e89",
   "metadata": {},
   "outputs": [
    {
     "name": "stdout",
     "output_type": "stream",
     "text": [
      "Total Dogs= 3\n",
      "Name: shihtzuu   Cost: 2000   Age: 20years\n",
      "Name: pomerian   Cost: 3000   Age: 25years\n",
      "Name: dabarman   Cost: 4000   Age: 30years\n"
     ]
    }
   ],
   "source": [
    "class dog:\n",
    "    'common_dog'\n",
    "    dog=0\n",
    "    def __init__(self,name,cost,age):\n",
    "        self.name = name\n",
    "        self.cost = cost\n",
    "        self.age = age\n",
    "        dog.dog +=1\n",
    "    def printDogdata(self):\n",
    "        print(\"Name:\",self.name,\" Cost:\",self.cost,\"  Age:\",self.age)\n",
    "d=dog(\"shihtzuu \",2000,\"20years\")\n",
    "d1=dog(\"pomerian \",3000,\"25years\")\n",
    "d2=dog(\"dabarman \",4000,\"30years\")\n",
    "print(\"Total Dogs=\",dog.dog)\n",
    "d.printDogdata()\n",
    "d1.printDogdata()\n",
    "d2.printDogdata()\n"
   ]
  },
  {
   "cell_type": "code",
   "execution_count": 26,
   "id": "bdf589c9-7782-441b-a5f2-4ff843b0cb24",
   "metadata": {},
   "outputs": [
    {
     "name": "stdout",
     "output_type": "stream",
     "text": [
      "engine is powerful\n",
      "100km\n"
     ]
    }
   ],
   "source": [
    "class car:\n",
    "    def speed(self):\n",
    "        print(\"100km\")\n",
    "class Audi(car):\n",
    "    def engine(self):\n",
    "        print(\"engine is powerful\")\n",
    "c = Audi()\n",
    "c.engine()\n",
    "c.speed()"
   ]
  },
  {
   "cell_type": "code",
   "execution_count": 50,
   "id": "2e9d4561-c8b7-4d16-a8d2-4c4380b6f2d0",
   "metadata": {},
   "outputs": [
    {
     "name": "stdout",
     "output_type": "stream",
     "text": [
      "bowh bowh\n",
      "meow meow\n"
     ]
    }
   ],
   "source": [
    "#OVERRIDING:\n",
    "class Animal:\n",
    "    def sound(self):\n",
    "        print(\"Some Generic Sound\")\n",
    "class Dog(Animal):\n",
    "    def sound(self):\n",
    "        print(\"bowh bowh\")\n",
    "class Cat:\n",
    "    def sound(self):\n",
    "        print(\"meow meow\")\n",
    "dog = Dog()\n",
    "cat = Cat()\n",
    "dog.sound()\n",
    "cat.sound()\n"
   ]
  },
  {
   "cell_type": "code",
   "execution_count": 5,
   "id": "4e080ea7-f466-4e94-bdf1-5bfa84ac60fe",
   "metadata": {},
   "outputs": [
    {
     "name": "stdout",
     "output_type": "stream",
     "text": [
      "11th Generation\n",
      "12th Genration\n"
     ]
    }
   ],
   "source": [
    "class Electronics:\n",
    "    def feather(self):\n",
    "        print(\"Some Generic Feathers\")\n",
    "class Dell(Electronics):\n",
    "    def feather(self):\n",
    "        print(\"11th Generation\")\n",
    "class HP:\n",
    "    def feather(self):\n",
    "        print(\"12th Genration\")\n",
    "dell = Dell()\n",
    "hp = HP()\n",
    "dell.feather()\n",
    "hp.feather()"
   ]
  },
  {
   "cell_type": "code",
   "execution_count": 7,
   "id": "10419653-c736-4a1c-b975-27835d2a6b8e",
   "metadata": {},
   "outputs": [
    {
     "name": "stdout",
     "output_type": "stream",
     "text": [
      "Select operation:\n",
      "1. Add\n",
      "2. Subtract\n",
      "3. Multiply\n",
      "4. Divide\n"
     ]
    },
    {
     "name": "stdin",
     "output_type": "stream",
     "text": [
      "Enter choice(1/2/3/4):  2\n",
      "Enter first number:  3\n",
      "Enter second number:  5\n"
     ]
    },
    {
     "name": "stdout",
     "output_type": "stream",
     "text": [
      "3.0 - 5.0 = -2.0\n"
     ]
    }
   ],
   "source": [
    "#single inheritance for advance calculations\n",
    "# Base class for basic operations\n",
    "class Calculator:\n",
    "    def add(self, a, b):\n",
    "        return a + b\n",
    "\n",
    "    def subtract(self, a, b):\n",
    "        return a - b\n",
    "\n",
    "# Derived class to extend functionality\n",
    "class AdvancedCalculator(Calculator):\n",
    "    def multiply(self, a, b):\n",
    "        return a * b\n",
    "\n",
    "    def divide(self, a, b):\n",
    "        if b != 0:\n",
    "            return a / b\n",
    "        else:\n",
    "            return \"Cannot divide by zero\"\n",
    "\n",
    "# Main program\n",
    "def main():\n",
    "    calc = AdvancedCalculator()\n",
    "\n",
    "    print(\"Select operation:\")\n",
    "    print(\"1. Add\")\n",
    "    print(\"2. Subtract\")\n",
    "    print(\"3. Multiply\")\n",
    "    print(\"4. Divide\")\n",
    "\n",
    "    choice = input(\"Enter choice(1/2/3/4): \")\n",
    "\n",
    "    num1 = float(input(\"Enter first number: \"))\n",
    "    num2 = float(input(\"Enter second number: \"))\n",
    "\n",
    "    if choice == '1':\n",
    "        print(f\"{num1} + {num2} = {calc.add(num1, num2)}\")\n",
    "    elif choice == '2':\n",
    "        print(f\"{num1} - {num2} = {calc.subtract(num1, num2)}\")\n",
    "    elif choice == '3':\n",
    "        print(f\"{num1} * {num2} = {calc.multiply(num1, num2)}\")\n",
    "    elif choice == '4':\n",
    "        print(f\"{num1} / {num2} = {calc.divide(num1, num2)}\")\n",
    "    else:\n",
    "        print(\"Invalid input\")\n",
    "\n",
    "if __name__ == \"__main__\":\n",
    "    main()\n"
   ]
  },
  {
   "cell_type": "code",
   "execution_count": 15,
   "id": "212f3318-c41f-49f7-9117-79f0bc8786e5",
   "metadata": {},
   "outputs": [
    {
     "ename": "NameError",
     "evalue": "name 'Adv' is not defined",
     "output_type": "error",
     "traceback": [
      "\u001b[1;31m---------------------------------------------------------------------------\u001b[0m",
      "\u001b[1;31mNameError\u001b[0m                                 Traceback (most recent call last)",
      "Cell \u001b[1;32mIn[15], line 10\u001b[0m\n\u001b[0;32m      8\u001b[0m     \u001b[38;5;28;01mdef\u001b[39;00m \u001b[38;5;21msub\u001b[39m(\u001b[38;5;28mself\u001b[39m,a,b):\n\u001b[0;32m      9\u001b[0m         \u001b[38;5;28mprint\u001b[39m(\u001b[38;5;124m\"\u001b[39m\u001b[38;5;124msub: \u001b[39m\u001b[38;5;124m\"\u001b[39m,a\u001b[38;5;241m-\u001b[39mb)\n\u001b[1;32m---> 10\u001b[0m \u001b[38;5;28msum\u001b[39m\u001b[38;5;241m=\u001b[39mAdv()\n\u001b[0;32m     11\u001b[0m \u001b[38;5;28msum\u001b[39m\u001b[38;5;241m.\u001b[39madd(\u001b[38;5;241m10\u001b[39m,\u001b[38;5;241m10\u001b[39m)\n\u001b[0;32m     12\u001b[0m \u001b[38;5;28msum\u001b[39m\u001b[38;5;241m.\u001b[39mmul(\u001b[38;5;241m10\u001b[39m,\u001b[38;5;241m2\u001b[39m)\n",
      "\u001b[1;31mNameError\u001b[0m: name 'Adv' is not defined"
     ]
    }
   ],
   "source": [
    "class Calc:\n",
    "    def add(self,a,b):\n",
    "        print(\"Add: \",a+b)\n",
    "    def mul(self,a,b):\n",
    "        print(\"Mul: \",a*b)\n",
    "    def div(self,a,b):\n",
    "        print(\"Div: \",a/b)\n",
    "    def sub(self,a,b):\n",
    "        print(\"sub: \",a-b)\n",
    "sum=Adv()\n",
    "sum.add(10,10)\n",
    "sum.mul(10,2)\n",
    "sum.div(50,2)\n",
    "sum.sub(25,5)"
   ]
  },
  {
   "cell_type": "code",
   "execution_count": 11,
   "id": "e51312a9-0e3d-412a-9af9-278bba9a52c7",
   "metadata": {},
   "outputs": [
    {
     "name": "stdout",
     "output_type": "stream",
     "text": [
      "The total room rent is: 1500\n"
     ]
    }
   ],
   "source": [
    "class AcRoom:\n",
    "    def calculates(self, no_rooms, days):\n",
    "        if days == 1:\n",
    "            rent_per_day = 300\n",
    "        elif 1 < days <= 5:\n",
    "            rent_per_day = 250\n",
    "        else:  \n",
    "            rent_per_day = 200\n",
    "        \n",
    "        total_rent = no_rooms * rent_per_day * days\n",
    "        return total_rent\n",
    "\n",
    "\n",
    "room = AcRoom()\n",
    "no_rooms = 2 \n",
    "days = 3 \n",
    "total_rent = room.calculates(no_rooms, days)\n",
    "print(f\"The total room rent is: {total_rent}\")"
   ]
  },
  {
   "cell_type": "code",
   "execution_count": 13,
   "id": "bdb44b93-c016-4dd0-98d6-e73010c9e0f5",
   "metadata": {},
   "outputs": [
    {
     "name": "stdout",
     "output_type": "stream",
     "text": [
      "The total room rent is: 500\n"
     ]
    }
   ],
   "source": [
    "class NormalRoom:\n",
    "    def calculates(self, no_rooms, days):\n",
    "        if days == 1:\n",
    "            rent_per_day = 300\n",
    "        elif 1 < days <= 5:\n",
    "            rent_per_day = 250\n",
    "        else:  \n",
    "            rent_per_day = 200\n",
    "        \n",
    "        total_rent = no_rooms * rent_per_day * days\n",
    "        return total_rent\n",
    "\n",
    "\n",
    "room = NormalRoom()\n",
    "no_rooms = 1 \n",
    "days = 2  \n",
    "total_rent = room.calculates(no_rooms, days)\n",
    "print(f\"The total room rent is: {total_rent}\")"
   ]
  },
  {
   "cell_type": "code",
   "execution_count": 17,
   "id": "bafeedc2-de64-4532-a757-3e681128cec3",
   "metadata": {},
   "outputs": [
    {
     "name": "stdin",
     "output_type": "stream",
     "text": [
      " 2\n",
      " 3\n"
     ]
    },
    {
     "name": "stdout",
     "output_type": "stream",
     "text": [
      "addition:5\n",
      "subtraction: -1\n",
      "multiplication: 6\n",
      "floor division:0\n"
     ]
    }
   ],
   "source": [
    "class calulator:\n",
    "    def add (self,num1,num2):\n",
    "        self.num1=num1;\n",
    "        self.num2=num2;\n",
    "        return self.num1+self.num2\n",
    "    def sub(self,num1,num2):\n",
    "        return num1-num2;\n",
    "class advancedcalulator(calulator):\n",
    "    def mul(self,num1,num2):\n",
    "        print(\"multiplication:\",num1*num2)\n",
    "    def div(self,num1,num2):\n",
    "        return num1//num2;\n",
    "x=advancedcalulator()\n",
    "num1=int(input())\n",
    "num2=int(input())\n",
    "print(\"addition:%d\"%(x.add(num1,num2)))\n",
    "print(\"subtraction:\",x.sub(num1,num2))\n",
    "x.mul(num1,num2)\n",
    "print(\"floor division:%d\"%(x.div(num1,num2)))"
   ]
  },
  {
   "cell_type": "code",
   "execution_count": 33,
   "id": "ce328a36-1caa-4429-96d4-0f99d2c9ebc4",
   "metadata": {},
   "outputs": [
    {
     "name": "stdin",
     "output_type": "stream",
     "text": [
      " nandu\n",
      " ghsr\n",
      " 000000000000\n"
     ]
    },
    {
     "ename": "NameError",
     "evalue": "name 'Hotel' is not defined",
     "output_type": "error",
     "traceback": [
      "\u001b[1;31m---------------------------------------------------------------------------\u001b[0m",
      "\u001b[1;31mNameError\u001b[0m                                 Traceback (most recent call last)",
      "Cell \u001b[1;32mIn[33], line 40\u001b[0m\n\u001b[0;32m     38\u001b[0m Address \u001b[38;5;241m=\u001b[39m \u001b[38;5;28minput\u001b[39m()\n\u001b[0;32m     39\u001b[0m Mobile_number \u001b[38;5;241m=\u001b[39m \u001b[38;5;28minput\u001b[39m()\n\u001b[1;32m---> 40\u001b[0m h \u001b[38;5;241m=\u001b[39m Hotel(Name,Addess,Moblr_number)\n\u001b[0;32m     41\u001b[0m no_room \u001b[38;5;241m=\u001b[39m \u001b[38;5;28mint\u001b[39m(\u001b[38;5;28minput\u001b[39m())\n\u001b[0;32m     42\u001b[0m days \u001b[38;5;241m=\u001b[39m \u001b[38;5;28mint\u001b[39m(\u001b[38;5;28minput\u001b[39m())\n",
      "\u001b[1;31mNameError\u001b[0m: name 'Hotel' is not defined"
     ]
    }
   ],
   "source": [
    "class normalroom():\n",
    "    def calculate(self,no_room,days):\n",
    "        self.no_rooms=no_rooms\n",
    "        self.days=days\n",
    "        if days==1:\n",
    "            rent=no_rooms*300*1\n",
    "        elif days>1 and days<=5:\n",
    "            rent=no_rooms*250*days\n",
    "        else:\n",
    "            rent =no_rooms*200*days\n",
    "        print(\"Room Rent=\",rent)\n",
    "        \n",
    "class Ac_room():\n",
    "    def Ac_calculate(self,no_room,days):\n",
    "        self.no_rooms=no_rooms\n",
    "        self.days=days\n",
    "        if days==1:\n",
    "            rent=no_rooms*450*1\n",
    "        elif days>1 and days<=5:\n",
    "            rent=no_rooms*300*days\n",
    "        else:\n",
    "            rent =no_rooms*250*days\n",
    "        print(\"Room Rent=\",rent)\n",
    "        \n",
    "class suite_room():\n",
    "    def suite_calculate(self,no_room,days):\n",
    "        self.no_rooms=no_rooms\n",
    "        self.days=days\n",
    "        if days==1:\n",
    "            rent=no_rooms*450*1\n",
    "        elif days>1 and days<=5:\n",
    "            rent=no_rooms*300*days\n",
    "        else:\n",
    "            rent =no_rooms*250*days\n",
    "        print(\"Room Rent=\",rent)\n",
    "        \n",
    "Name = input()\n",
    "Address = input()\n",
    "Mobile_number = input()\n",
    "h = Hotel(Name,Addess,Moblr_number)\n",
    "no_room = int(input())\n",
    "days = int(input())\n",
    "choice = int(input())\n",
    "if choice==1:\n",
    "    h.display()\n",
    "    h.calculate(no_room,days)\n",
    "elif choice==2:\n",
    "    h.display()\n",
    "    h.calculate(no_room,days)\n",
    "elif choice==3:\n",
    "    h.display()\n",
    "    h.calculate(no_room,days)\n",
    "else:\n",
    "    print(\"Invalid\")"
   ]
  },
  {
   "cell_type": "code",
   "execution_count": 35,
   "id": "efc18c76-da62-4753-b2b6-58d0c62c7f9f",
   "metadata": {},
   "outputs": [],
   "source": [
    "class normalroom():\n",
    "    def calculate(self,no_room,days):\n",
    "        self.no_rooms=no_rooms\n",
    "        self.days=days\n",
    "        if days==1:\n",
    "            rent=no_rooms*300*1\n",
    "        elif days>1 and days<=5:\n",
    "            rent=no_rooms*250*days\n",
    "        else:\n",
    "            rent =no_rooms*200*days\n",
    "        print(\"Room Rent=\",rent)\n",
    "class Ac_room():\n",
    "    def Ac_calculate(self,no_room,days):\n",
    "        self.no_rooms=no_rooms\n",
    "        self.days=days\n",
    "        if days==1:\n",
    "            rent=no_rooms*450*1\n",
    "        elif days>1 and days<=5:\n",
    "            rent=no_rooms*300*days\n",
    "        else:\n",
    "            rent =no_rooms*250*days\n",
    "        print(\"Room Rent=\",rent)\n",
    "class suite_room():\n",
    "    def suite_calculate(self,no_room,days):\n",
    "        self.no_rooms=no_rooms\n",
    "        self.days=days\n",
    "        if days==1:\n",
    "            rent=no_rooms*450*1\n",
    "        elif days>1 and days<=5:\n",
    "            rent=no_rooms*300*days\n",
    "        else:\n",
    "            rent =no_rooms*250*days\n",
    "        print(\"Room Rent=\",rent)"
   ]
  },
  {
   "cell_type": "code",
   "execution_count": 2,
   "id": "9bdd97e8-457f-40d0-8d1f-db7c5e1441da",
   "metadata": {},
   "outputs": [
    {
     "ename": "NameError",
     "evalue": "name 'calc' is not defined",
     "output_type": "error",
     "traceback": [
      "\u001b[1;31m---------------------------------------------------------------------------\u001b[0m",
      "\u001b[1;31mNameError\u001b[0m                                 Traceback (most recent call last)",
      "Cell \u001b[1;32mIn[2], line 4\u001b[0m\n\u001b[0;32m      1\u001b[0m \u001b[38;5;28;01mdef\u001b[39;00m \u001b[38;5;21mmain\u001b[39m():\n\u001b[0;32m      2\u001b[0m     result \u001b[38;5;241m=\u001b[39m calc()\n\u001b[1;32m----> 4\u001b[0m main()\n\u001b[0;32m      5\u001b[0m \u001b[38;5;28mprint\u001b[39m(reslut\u001b[38;5;241m.\u001b[39madd(\u001b[38;5;241m5\u001b[39m))\n\u001b[0;32m      6\u001b[0m \u001b[38;5;28mprint\u001b[39m(reslut\u001b[38;5;241m.\u001b[39madd(\u001b[38;5;241m5\u001b[39m,\u001b[38;5;241m10\u001b[39m))\n",
      "Cell \u001b[1;32mIn[2], line 2\u001b[0m, in \u001b[0;36mmain\u001b[1;34m()\u001b[0m\n\u001b[0;32m      1\u001b[0m \u001b[38;5;28;01mdef\u001b[39;00m \u001b[38;5;21mmain\u001b[39m():\n\u001b[1;32m----> 2\u001b[0m     result \u001b[38;5;241m=\u001b[39m calc()\n",
      "\u001b[1;31mNameError\u001b[0m: name 'calc' is not defined"
     ]
    }
   ],
   "source": [
    "class \n",
    "def main():\n",
    "    result = calc()\n",
    "\n",
    "main()\n",
    "print(reslut.add(5))\n",
    "print(reslut.add(5,10))\n",
    "print(result.add(5,10,5))\n"
   ]
  },
  {
   "cell_type": "code",
   "execution_count": 2,
   "id": "bfcb9856-50c7-47b5-bce3-9f4bef6a4d14",
   "metadata": {},
   "outputs": [
    {
     "name": "stdout",
     "output_type": "stream",
     "text": [
      "Area of Circle: 78.5\n",
      "Area of Rectangle: 24\n"
     ]
    }
   ],
   "source": [
    "class Shape:\n",
    "    def area(self, radius=None, length=None, breadth=None):\n",
    "        if radius is not None:\n",
    "            # Area of Circle\n",
    "            return 3.14 * radius * radius\n",
    "        elif length is not None and breadth is not None:\n",
    "            # Area of Rectangle\n",
    "            return length * breadth\n",
    "        else:\n",
    "            return \"Invalid input\"\n",
    "\n",
    "# Create object of Shape class\n",
    "shape = Shape()\n",
    "\n",
    "# Area of Circle\n",
    "print(\"Area of Circle:\", shape.area(radius=5))\n",
    "\n",
    "# Area of Rectangle\n",
    "print(\"Area of Rectangle:\", shape.area(length=4, breadth=6))\n"
   ]
  },
  {
   "cell_type": "code",
   "execution_count": 4,
   "id": "79f71e83-0bf8-4ebb-bbe7-d68ac2d68053",
   "metadata": {},
   "outputs": [
    {
     "name": "stdout",
     "output_type": "stream",
     "text": [
      "Modulus of 10 and 3: 1\n",
      "Power of (2^2)^2: 16\n"
     ]
    }
   ],
   "source": [
    "class MathOperations:\n",
    "    def calculate(self, a, b=None, c=None):\n",
    "        if b is not None and c is None:\n",
    "            # Modulus of two numbers\n",
    "            return a % b\n",
    "        elif b is not None and c is not None:\n",
    "            # Power of three numbers (a^b)^c\n",
    "            return (a ** b) ** c\n",
    "        else:\n",
    "            return \"Invalid input\"\n",
    "\n",
    "# Create object of MathOperations class\n",
    "math_ops = MathOperations()\n",
    "\n",
    "# Modulus of two numbers\n",
    "print(\"Modulus of 10 and 3:\", math_ops.calculate(10, 3))\n",
    "\n",
    "# Power of three numbers (2^2)^2\n",
    "print(\"Power of (2^2)^2:\", math_ops.calculate(2, 2, 2))\n"
   ]
  },
  {
   "cell_type": "code",
   "execution_count": 6,
   "id": "c5f1927f-687c-41a3-a95c-b92ddc6e95e2",
   "metadata": {},
   "outputs": [
    {
     "name": "stdout",
     "output_type": "stream",
     "text": [
      "SBI Interest: 2.3%\n",
      "IndianBank Interest: 2.4%\n",
      "Canara Bank Interest: 2.7%\n"
     ]
    }
   ],
   "source": [
    "class RBI:\n",
    "    def Interest(self):\n",
    "        return \"RBI Interest: 4.0%\"\n",
    "\n",
    "class SBI(RBI):\n",
    "    def Interest(self):\n",
    "        return \"SBI Interest: 2.3%\"\n",
    "\n",
    "class IndianBank(RBI):\n",
    "    def Interest(self):\n",
    "        return \"IndianBank Interest: 2.4%\"\n",
    "\n",
    "class Canara(RBI):\n",
    "    def Interest(self):\n",
    "        return \"Canara Bank Interest: 2.7%\"\n",
    "\n",
    "# Create objects of each class\n",
    "rbi = RBI()\n",
    "sbi = SBI()\n",
    "indian_bank = IndianBank()\n",
    "canara = Canara()\n",
    "\n",
    "# Print rate of interest for each bank\n",
    "print(sbi.Interest())\n",
    "print(indian_bank.Interest())\n",
    "print(canara.Interest())\n"
   ]
  },
  {
   "cell_type": "code",
   "execution_count": 1,
   "id": "4821498c-11e6-42a1-9f86-ef51b4e113a6",
   "metadata": {},
   "outputs": [
    {
     "name": "stdout",
     "output_type": "stream",
     "text": [
      "Cow: I am a Vegetarian\n",
      "Tiger: I am a Non Vegetarian\n",
      "Bear: I eat both\n"
     ]
    }
   ],
   "source": [
    "class Animal:\n",
    "    def breathe(self):\n",
    "        print(\"I breathe oxygen\")\n",
    "    \n",
    "    def food(self):\n",
    "        print(\"I eat food\")\n",
    "\n",
    "class Herbivores(Animal):\n",
    "    def food(self, name):\n",
    "        print(f\"{name}: I am a Vegetarian\")\n",
    "\n",
    "class Carnivores(Animal):\n",
    "    def food(self, name):\n",
    "        print(f\"{name}: I am a Non Vegetarian\")\n",
    "\n",
    "class Omnivores(Animal):\n",
    "    def food(self, name):\n",
    "        print(f\"{name}: I eat both\")\n",
    "\n",
    "# Create objects and call the methods\n",
    "herbivore = Herbivores()\n",
    "carnivore = Carnivores()\n",
    "omnivore = Omnivores()\n",
    "\n",
    "herbivore.food(\"Cow\")\n",
    "carnivore.food(\"Tiger\")\n",
    "omnivore.food(\"Bear\")\n"
   ]
  },
  {
   "cell_type": "code",
   "execution_count": 7,
   "id": "e43ba29d-ac0d-424c-b278-38f4e4d72db9",
   "metadata": {},
   "outputs": [
    {
     "name": "stdout",
     "output_type": "stream",
     "text": [
      "Area of Rectangle: 20\n",
      "Area of Triangle: 24.0\n"
     ]
    }
   ],
   "source": [
    "class NutShape:\n",
    "    # This is the base class, which we don't need to instantiate.\n",
    "    def calculate_area(self, length, breadth, base, height):\n",
    "        pass\n",
    "\n",
    "class Rectangle(NutShape):\n",
    "    def calculate_area(self, length, breadth, base=None, height=None):\n",
    "        # Calculate area of the rectangle\n",
    "        return length * breadth\n",
    "\n",
    "class Triangle(NutShape):\n",
    "    def calculate_area(self, length=None, breadth=None, base=None, height=None):\n",
    "        # Calculate area of the triangle\n",
    "        return 0.5 * base * height\n",
    "\n",
    "# Create objects of Rectangle and Triangle\n",
    "rectangle = Rectangle()\n",
    "triangle = Triangle()\n",
    "\n",
    "# Input values\n",
    "length = 5       # Rectangle length\n",
    "breadth = 4      # Rectangle breadth\n",
    "base = 6         # Triangle base\n",
    "height = 8       # Triangle height\n",
    "\n",
    "rectangle_area = rectangle.calculate_area(length, breadth)\n",
    "\n",
    "# Calculate area of Triangle\n",
    "triangle_area = triangle.calculate_area(base=base, height=height)\n",
    "\n",
    "# Print the areas\n",
    "print(\"Area of Rectangle:\", rectangle_area)\n",
    "print(\"Area of Triangle:\", triangle_area)"
   ]
  },
  {
   "cell_type": "code",
   "execution_count": 11,
   "id": "8888e363-c567-4629-8df1-90a6dde7628e",
   "metadata": {},
   "outputs": [
    {
     "name": "stdin",
     "output_type": "stream",
     "text": [
      " 45\n"
     ]
    },
    {
     "name": "stdout",
     "output_type": "stream",
     "text": [
      "529\n"
     ]
    }
   ],
   "source": [
    "class Sumodd:\n",
    "    def calc(self):\n",
    "        __n=int(input())\n",
    "        x=0\n",
    "        for i in range(1,__n+1,2):\n",
    "            x+=i\n",
    "        print(x)\n",
    "m=Sumodd()\n",
    "m.calc()"
   ]
  },
  {
   "cell_type": "code",
   "execution_count": 13,
   "id": "af4e2a0b-38b1-4b07-8c45-839f20e5479e",
   "metadata": {},
   "outputs": [
    {
     "name": "stdin",
     "output_type": "stream",
     "text": [
      " 26\n"
     ]
    },
    {
     "name": "stdout",
     "output_type": "stream",
     "text": [
      "even\n"
     ]
    }
   ],
   "source": [
    "class Check:\n",
    "    def odd_even(self):\n",
    "        _n=int(input())\n",
    "        if _n%2==0:\n",
    "            print(\"even\")\n",
    "        else:\n",
    "            print(\"odd\")\n",
    "\n",
    "ob=Check()\n",
    "ob.odd_even()"
   ]
  },
  {
   "cell_type": "code",
   "execution_count": 15,
   "id": "937285a9-41d4-4488-b94a-aa9fb15af5e0",
   "metadata": {},
   "outputs": [
    {
     "ename": "TypeError",
     "evalue": "Bank() takes no arguments",
     "output_type": "error",
     "traceback": [
      "\u001b[1;31m---------------------------------------------------------------------------\u001b[0m",
      "\u001b[1;31mTypeError\u001b[0m                                 Traceback (most recent call last)",
      "Cell \u001b[1;32mIn[15], line 19\u001b[0m\n\u001b[0;32m     17\u001b[0m         \u001b[38;5;28;01melse\u001b[39;00m:\n\u001b[0;32m     18\u001b[0m             \u001b[38;5;28mprint\u001b[39m(\u001b[38;5;124m'\u001b[39m\u001b[38;5;124mno\u001b[39m\u001b[38;5;124m'\u001b[39m)\n\u001b[1;32m---> 19\u001b[0m b\u001b[38;5;241m=\u001b[39mBank(\u001b[38;5;124m'\u001b[39m\u001b[38;5;124mdolly\u001b[39m\u001b[38;5;124m'\u001b[39m,\u001b[38;5;241m1000\u001b[39m)\n\u001b[0;32m     20\u001b[0m b\u001b[38;5;241m.\u001b[39mdisplay()\n\u001b[0;32m     21\u001b[0m b\u001b[38;5;241m.\u001b[39mdeposit(\u001b[38;5;241m400\u001b[39m)\n",
      "\u001b[1;31mTypeError\u001b[0m: Bank() takes no arguments"
     ]
    }
   ],
   "source": [
    "class Bank:\n",
    "    def _init_(self,owner,bal=0):\n",
    "        self.owner=owner\n",
    "        self.__bal=bal\n",
    "    def display(self):\n",
    "        print(self.owner)\n",
    "    def deposit(self,amt):\n",
    "        if amt>0:\n",
    "            self.__bal+=amt\n",
    "            print(bal)\n",
    "        else:\n",
    "            print('deposite amt')\n",
    "    def Withdraw(self,amt):\n",
    "        if 0<amt<=self.__bal:\n",
    "            self.__bal-=amt\n",
    "            print(bal)\n",
    "        else:\n",
    "            print('no')\n",
    "b=Bank('dolly',1000)\n",
    "b.display()\n",
    "b.deposit(400)\n",
    "b.Withdraw(200)"
   ]
  },
  {
   "cell_type": "code",
   "execution_count": null,
   "id": "d99fd260-5223-415f-9cfc-aa5c7948be3f",
   "metadata": {},
   "outputs": [],
   "source": []
  }
 ],
 "metadata": {
  "kernelspec": {
   "display_name": "Python 3 (ipykernel)",
   "language": "python",
   "name": "python3"
  },
  "language_info": {
   "codemirror_mode": {
    "name": "ipython",
    "version": 3
   },
   "file_extension": ".py",
   "mimetype": "text/x-python",
   "name": "python",
   "nbconvert_exporter": "python",
   "pygments_lexer": "ipython3",
   "version": "3.12.4"
  }
 },
 "nbformat": 4,
 "nbformat_minor": 5
}
