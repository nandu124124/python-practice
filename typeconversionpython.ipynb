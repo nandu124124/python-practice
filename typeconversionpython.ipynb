{
 "cells": [
  {
   "cell_type": "code",
   "execution_count": 14,
   "id": "106b259b-04e9-4ad5-ac2c-0a728ffb2fdc",
   "metadata": {},
   "outputs": [
    {
     "name": "stdout",
     "output_type": "stream",
     "text": [
      "10\n",
      "<class 'float'>\n",
      "10.0\n",
      "<class 'int'>\n"
     ]
    }
   ],
   "source": [
    "#1)int conversion\n",
    "#eg1:float to int\n",
    "a = 10.67\n",
    "b = 10\n",
    "print(int(a))\n",
    "print(type(a))\n",
    "print(float(b))\n",
    "print(type(b))\n"
   ]
  },
  {
   "cell_type": "code",
   "execution_count": 26,
   "id": "e974451e-c5e3-4eeb-a1e2-5244b8695de4",
   "metadata": {},
   "outputs": [
    {
     "name": "stdout",
     "output_type": "stream",
     "text": [
      "17.56\n"
     ]
    }
   ],
   "source": [
    "#complex to int\n",
    "x = 17.56+20.1j\n",
    "y = x.real\n",
    "print(y)\n"
   ]
  },
  {
   "cell_type": "code",
   "execution_count": 24,
   "id": "85ada040-8cbf-4e41-b5b0-a83107bfac4f",
   "metadata": {},
   "outputs": [
    {
     "name": "stdout",
     "output_type": "stream",
     "text": [
      "17\n"
     ]
    }
   ],
   "source": [
    "x = 17.56+20.1j\n",
    "y = int(x.real)\n",
    "print(y)"
   ]
  },
  {
   "cell_type": "code",
   "execution_count": 34,
   "id": "4fd8d560-0be7-4485-8ab9-0a01315857df",
   "metadata": {},
   "outputs": [
    {
     "name": "stdout",
     "output_type": "stream",
     "text": [
      "17\n",
      "20\n"
     ]
    }
   ],
   "source": [
    "x = 17.56 + 20.1j\n",
    "y = int(x.real)\n",
    "z = int(x.imag)\n",
    "print(y)\n",
    "print(z)\n"
   ]
  },
  {
   "cell_type": "code",
   "execution_count": 38,
   "id": "9d8f2466-bd1d-40ba-9b89-59a57a1899cc",
   "metadata": {},
   "outputs": [
    {
     "name": "stdout",
     "output_type": "stream",
     "text": [
      "100 <class 'int'>\n"
     ]
    }
   ],
   "source": [
    "#eg3 str to int(only it is possible when the value is numbers)\n",
    "x = \"100\"\n",
    "t = int(x)\n",
    "print(t,type(t))"
   ]
  },
  {
   "cell_type": "code",
   "execution_count": 68,
   "id": "b0c46b44-071d-41a2-a754-348839bb4a6f",
   "metadata": {},
   "outputs": [
    {
     "name": "stdout",
     "output_type": "stream",
     "text": [
      "<class 'bool'>\n",
      "1 <class 'int'>\n"
     ]
    }
   ],
   "source": [
    "#eg4 bool to int(1=true,0=false)\n",
    "x = True\n",
    "y = int(x)\n",
    "print(type(x))\n",
    "print(y,type(y))"
   ]
  },
  {
   "cell_type": "code",
   "execution_count": 44,
   "id": "95f92746-998c-4efa-bf44-7bfb5926820b",
   "metadata": {},
   "outputs": [
    {
     "name": "stdout",
     "output_type": "stream",
     "text": [
      "0 <class 'int'>\n"
     ]
    }
   ],
   "source": [
    "x = False\n",
    "y = int(x)\n",
    "print(y,type(y))"
   ]
  },
  {
   "cell_type": "code",
   "execution_count": 66,
   "id": "a94b36a5-bcd2-4137-ac65-f6c504660835",
   "metadata": {},
   "outputs": [
    {
     "name": "stdout",
     "output_type": "stream",
     "text": [
      "<class 'int'>\n",
      "5.0 <class 'float'>\n"
     ]
    }
   ],
   "source": [
    "#eg5 int to float\n",
    "x = 5\n",
    "y = float(x)\n",
    "print(type(x))\n",
    "print(y,type(y))"
   ]
  },
  {
   "cell_type": "code",
   "execution_count": 64,
   "id": "6b78af70-6069-4166-a004-ffbc3a6bc7a4",
   "metadata": {},
   "outputs": [
    {
     "name": "stdout",
     "output_type": "stream",
     "text": [
      "<class 'str'>\n",
      "100.0 <class 'float'>\n"
     ]
    }
   ],
   "source": [
    "#str to float\n",
    "x = \"100\"\n",
    "y = float(x)\n",
    "print(type(x))\n",
    "print(y,type(y))\n"
   ]
  },
  {
   "cell_type": "code",
   "execution_count": 72,
   "id": "e5e577f7-a13e-4788-8af9-4517943349fa",
   "metadata": {},
   "outputs": [
    {
     "name": "stdout",
     "output_type": "stream",
     "text": [
      "<class 'bool'>\n",
      "1.0 <class 'float'>\n"
     ]
    }
   ],
   "source": [
    "#bool to float\n",
    "x = True\n",
    "y = float(x)\n",
    "print(type(x))\n",
    "print(y,type(y))"
   ]
  },
  {
   "cell_type": "code",
   "execution_count": 78,
   "id": "a16bb0ca-abc8-445c-81db-f3a9db59bd17",
   "metadata": {},
   "outputs": [
    {
     "name": "stdout",
     "output_type": "stream",
     "text": [
      "(2+0j) <class 'complex'>\n",
      "(7.7+0j) <class 'complex'>\n"
     ]
    }
   ],
   "source": [
    "# int tocomplex\n",
    "x = complex(2)\n",
    "print(x,type(x))\n",
    "y = complex(7.7)\n",
    "print(y,type(y))"
   ]
  },
  {
   "cell_type": "code",
   "execution_count": 80,
   "id": "86dd6e4a-df62-4c38-914c-2b26662a708e",
   "metadata": {},
   "outputs": [
    {
     "name": "stdout",
     "output_type": "stream",
     "text": [
      "(1+0j) <class 'complex'>\n"
     ]
    }
   ],
   "source": [
    "z = complex(True)\n",
    "print(z,type(z))"
   ]
  },
  {
   "cell_type": "code",
   "execution_count": 82,
   "id": "030174fa-f556-4005-ad9e-713e25cdfa3e",
   "metadata": {},
   "outputs": [
    {
     "name": "stdout",
     "output_type": "stream",
     "text": [
      "0j <class 'complex'>\n"
     ]
    }
   ],
   "source": [
    "s = complex(False)\n",
    "print(s,type(s))"
   ]
  },
  {
   "cell_type": "code",
   "execution_count": 4,
   "id": "2c829daa-0577-4159-9cf6-f0bd1b4628ab",
   "metadata": {},
   "outputs": [
    {
     "name": "stdout",
     "output_type": "stream",
     "text": [
      "20 <class 'str'>\n",
      "20 <class 'int'>\n",
      "20.0 <class 'float'>\n",
      "True <class 'bool'>\n",
      "(20+0j) <class 'complex'>\n"
     ]
    }
   ],
   "source": [
    "#str to int,float ,bool,complex\n",
    "a = \"20\"\n",
    "b = int(a)\n",
    "c = float(a)\n",
    "d = bool(a)\n",
    "e = complex(a)\n",
    "print(a,type(a))\n",
    "print(b,type(b))\n",
    "print(c,type(c))\n",
    "print(d,type(d))\n",
    "print(e,type(e))"
   ]
  },
  {
   "cell_type": "code",
   "execution_count": null,
   "id": "813a905c-0f28-47b1-8bbc-3aff5831ba68",
   "metadata": {},
   "outputs": [],
   "source": []
  }
 ],
 "metadata": {
  "kernelspec": {
   "display_name": "Python 3 (ipykernel)",
   "language": "python",
   "name": "python3"
  },
  "language_info": {
   "codemirror_mode": {
    "name": "ipython",
    "version": 3
   },
   "file_extension": ".py",
   "mimetype": "text/x-python",
   "name": "python",
   "nbconvert_exporter": "python",
   "pygments_lexer": "ipython3",
   "version": "3.12.4"
  }
 },
 "nbformat": 4,
 "nbformat_minor": 5
}
