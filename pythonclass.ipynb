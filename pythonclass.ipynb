{
 "cells": [
  {
   "cell_type": "code",
   "execution_count": 8,
   "id": "04ab72df-73c7-4064-93a9-e9d3d6831a35",
   "metadata": {},
   "outputs": [
    {
     "name": "stdin",
     "output_type": "stream",
     "text": [
      " 2\n",
      " 9\n"
     ]
    },
    {
     "name": "stdout",
     "output_type": "stream",
     "text": [
      "11\n"
     ]
    }
   ],
   "source": [
    "\n",
    "def Addition(a,b):\n",
    "    t=a+b\n",
    "    print(t)\n",
    "a = int(input())\n",
    "b = int(input())\n",
    "Addition (a,b)"
   ]
  },
  {
   "cell_type": "code",
   "execution_count": 24,
   "id": "92c632a6-4b9e-4590-a02e-b1f8982bcfe9",
   "metadata": {},
   "outputs": [
    {
     "name": "stdin",
     "output_type": "stream",
     "text": [
      " 20\n",
      " 10\n"
     ]
    },
    {
     "name": "stdout",
     "output_type": "stream",
     "text": [
      "10\n"
     ]
    }
   ],
   "source": [
    "def sub(a,b):\n",
    "    t=a-b\n",
    "    print(t)\n",
    "a = int(input())\n",
    "b = int(input())\n",
    "sub(a,b)"
   ]
  },
  {
   "cell_type": "code",
   "execution_count": 34,
   "id": "255fd309-f6a1-4d67-b9a1-c273fe9c8ba2",
   "metadata": {},
   "outputs": [
    {
     "name": "stdout",
     "output_type": "stream",
     "text": [
      "2\n",
      "120\n"
     ]
    }
   ],
   "source": [
    "def fact(a):\n",
    "    for i in range(1,a):\n",
    "        a*=i\n",
    "    print(a)\n",
    "fact(2)\n",
    "fact(5)"
   ]
  },
  {
   "cell_type": "code",
   "execution_count": 36,
   "id": "8d00ebac-139b-42e9-bfaf-643a9978518f",
   "metadata": {},
   "outputs": [
    {
     "name": "stdout",
     "output_type": "stream",
     "text": [
      "2432902008176640000\n",
      "24\n"
     ]
    }
   ],
   "source": [
    "def fact(a):\n",
    "    for i in range(1,a):\n",
    "        a*=i\n",
    "    print(a)\n",
    "fact(20)\n",
    "fact(4)"
   ]
  },
  {
   "cell_type": "code",
   "execution_count": 12,
   "id": "14e2fceb-4e30-4cc5-a6c8-e1b181df8e05",
   "metadata": {},
   "outputs": [
    {
     "name": "stdin",
     "output_type": "stream",
     "text": [
      " 2\n",
      " 10\n"
     ]
    },
    {
     "name": "stdout",
     "output_type": "stream",
     "text": [
      "2 * 1 = 2\n",
      "2 * 2 = 4\n",
      "2 * 3 = 6\n",
      "2 * 4 = 8\n",
      "2 * 5 = 10\n",
      "2 * 6 = 12\n",
      "2 * 7 = 14\n",
      "2 * 8 = 16\n",
      "2 * 9 = 18\n",
      "2 * 10 = 20\n"
     ]
    }
   ],
   "source": [
    "a=int(input())\n",
    "b=int(input())\n",
    "c=0\n",
    "for i in range (1,b+1):\n",
    "    c=a*i\n",
    "    print(a,'*',i,'=',c)"
   ]
  },
  {
   "cell_type": "code",
   "execution_count": 22,
   "id": "ff3d0f07-cf39-4d38-939c-e49c198ccdab",
   "metadata": {},
   "outputs": [
    {
     "name": "stdout",
     "output_type": "stream",
     "text": [
      "welcome to python\n"
     ]
    }
   ],
   "source": [
    "def fun():\n",
    "  print(\"welcome to python\")\n",
    "fun()    "
   ]
  },
  {
   "cell_type": "code",
   "execution_count": 50,
   "id": "8ab791d6-f5e8-4e06-9a11-98e9ea8b4239",
   "metadata": {},
   "outputs": [
    {
     "name": "stdin",
     "output_type": "stream",
     "text": [
      "give the value 5\n",
      "give the value 2\n"
     ]
    },
    {
     "name": "stdout",
     "output_type": "stream",
     "text": [
      "7\n"
     ]
    }
   ],
   "source": [
    "def sum(n1,n2):\n",
    "    s=n1+n2\n",
    "    return s\n",
    "n1=int(input(\"give the value\"))\n",
    "n2=int(input(\"give the value\"))\n",
    "print(sum(n1,n2))\n",
    "\n"
   ]
  },
  {
   "cell_type": "code",
   "execution_count": 52,
   "id": "32a83f6d-f332-4425-b81a-82cd8649af88",
   "metadata": {},
   "outputs": [
    {
     "name": "stdin",
     "output_type": "stream",
     "text": [
      "give the value 5\n",
      "give the value 10\n"
     ]
    },
    {
     "name": "stdout",
     "output_type": "stream",
     "text": [
      "15\n"
     ]
    }
   ],
   "source": [
    "\n",
    "sum=lambda n1,n2:n1+n2\n",
    "x=int(input(\"give the value\"))\n",
    "y=int(input(\"give the value\"))\n",
    "print(sum(x,y))"
   ]
  },
  {
   "cell_type": "code",
   "execution_count": 58,
   "id": "d0c84f18-3455-4512-a8ee-92daab6581a3",
   "metadata": {},
   "outputs": [
    {
     "name": "stdin",
     "output_type": "stream",
     "text": [
      " 8\n",
      " 99\n"
     ]
    },
    {
     "name": "stdout",
     "output_type": "stream",
     "text": [
      "107\n"
     ]
    }
   ],
   "source": [
    "def sum(n1,n2):\n",
    "    s=n1+n2\n",
    "    return s\n",
    "x=int(input())\n",
    "y=int(input())\n",
    "print(sum(x,y))\n"
   ]
  },
  {
   "cell_type": "code",
   "execution_count": 60,
   "id": "139da8d2-2de5-4311-ab06-0e533e13223e",
   "metadata": {},
   "outputs": [
    {
     "name": "stdout",
     "output_type": "stream",
     "text": [
      "1\n",
      "2\n",
      "3\n",
      "4\n"
     ]
    }
   ],
   "source": [
    "for i in range(0,4):\n",
    "    i+=1\n",
    "    print(i)"
   ]
  },
  {
   "cell_type": "code",
   "execution_count": 62,
   "id": "0dec70cf-4765-4ae5-bf2c-bf03c24d278d",
   "metadata": {},
   "outputs": [
    {
     "name": "stdout",
     "output_type": "stream",
     "text": [
      "inside the function local total: 30\n",
      "outside the fuction local total: 0\n"
     ]
    }
   ],
   "source": [
    "total=0\n",
    "def sum(arg1,arg2):\n",
    "    total=arg1+arg2;\n",
    "    print(\"inside the function local total:\",total)\n",
    "    return total;\n",
    "sum(10,20);\n",
    "print(\"outside the fuction local total:\",total)\n",
    "\n",
    "    "
   ]
  },
  {
   "cell_type": "code",
   "execution_count": 70,
   "id": "ff57e5d0-bac1-4ba6-b287-499cc0c1080f",
   "metadata": {},
   "outputs": [
    {
     "name": "stdin",
     "output_type": "stream",
     "text": [
      " 100\n",
      " 20\n"
     ]
    },
    {
     "name": "stdout",
     "output_type": "stream",
     "text": [
      "100\n"
     ]
    }
   ],
   "source": [
    "import math\n",
    "a=int(input())\n",
    "b=int(input())\n",
    "print(max(a,b))\n",
    "\n",
    "      "
   ]
  },
  {
   "cell_type": "code",
   "execution_count": 72,
   "id": "cf457166-aa2f-4c23-a179-18da4aeb6bc7",
   "metadata": {},
   "outputs": [
    {
     "name": "stdin",
     "output_type": "stream",
     "text": [
      " 55\n",
      " 96\n"
     ]
    },
    {
     "name": "stdout",
     "output_type": "stream",
     "text": [
      "55\n"
     ]
    }
   ],
   "source": [
    "a=int(input())\n",
    "b=int(input())\n",
    "print(min(a,b))"
   ]
  },
  {
   "cell_type": "code",
   "execution_count": 76,
   "id": "ff2a692a-f50a-41e6-a61d-93f734f9424a",
   "metadata": {},
   "outputs": [
    {
     "name": "stdin",
     "output_type": "stream",
     "text": [
      " 55\n"
     ]
    },
    {
     "name": "stdout",
     "output_type": "stream",
     "text": [
      "the number is odd\n"
     ]
    }
   ],
   "source": [
    "a=int(input())\n",
    "if a%2==0:\n",
    "    print(\"the number is even\")\n",
    "else:\n",
    "    print(\"the number is odd\")\n",
    "    \n",
    "      "
   ]
  },
  {
   "cell_type": "code",
   "execution_count": 2,
   "id": "94632f59-f6f4-406b-a4f6-1045bd335ae8",
   "metadata": {},
   "outputs": [
    {
     "name": "stdin",
     "output_type": "stream",
     "text": [
      " 2\n"
     ]
    },
    {
     "name": "stdout",
     "output_type": "stream",
     "text": [
      "even\n"
     ]
    }
   ],
   "source": [
    "n=int(input())\n",
    "if n%2==0:\n",
    "    print(\"even\")\n",
    "else:\n",
    "    print(\"odd\")"
   ]
  },
  {
   "cell_type": "code",
   "execution_count": 20,
   "id": "95c7f394-8bce-4471-8233-2c0b92163bd4",
   "metadata": {},
   "outputs": [
    {
     "name": "stdin",
     "output_type": "stream",
     "text": [
      "enter the value 10\n",
      "enter the value 20\n",
      "enter the value 30\n"
     ]
    },
    {
     "data": {
      "text/plain": [
       "(60, 6000)"
      ]
     },
     "execution_count": 20,
     "metadata": {},
     "output_type": "execute_result"
    }
   ],
   "source": [
    "\n",
    "x = int(input(\"enter the value\"))\n",
    "y = int(input(\"enter the value\"))\n",
    "z = int(input(\"enter the value\"))\n",
    "def num(x,y,z):\n",
    "    return x+y+z,x*y*z\n",
    "     \n",
    "num(x,y,z)"
   ]
  },
  {
   "cell_type": "code",
   "execution_count": 26,
   "id": "d4e851bc-eb84-4948-9a85-2d11a7745dad",
   "metadata": {},
   "outputs": [
    {
     "name": "stdin",
     "output_type": "stream",
     "text": [
      "enter the 1st value 10\n",
      "enter the 2nd value 11\n",
      "enter the 3rd value 11\n"
     ]
    },
    {
     "name": "stdout",
     "output_type": "stream",
     "text": [
      "c is greater\n"
     ]
    }
   ],
   "source": [
    "a = int(input(\"enter the 1st value\"))\n",
    "b = int(input(\"enter the 2nd value\"))\n",
    "c = int(input(\"enter the 3rd value\"))\n",
    "def num(a,b,c):\n",
    "    if a>b:\n",
    "        print(\"a is greater\")\n",
    "    elif b>c:\n",
    "        print(\"b is greater\")\n",
    "    else:\n",
    "        print(\"c is greater\")\n",
    "num(a,b,c)    "
   ]
  },
  {
   "cell_type": "code",
   "execution_count": 32,
   "id": "a72884c8-e60c-4b38-bf0e-d9666c7dd80e",
   "metadata": {},
   "outputs": [
    {
     "name": "stdin",
     "output_type": "stream",
     "text": [
      " 19\n"
     ]
    },
    {
     "name": "stdout",
     "output_type": "stream",
     "text": [
      "first digit: 1\n",
      "second digit: 9\n",
      "result: 19\n"
     ]
    }
   ],
   "source": [
    "a = int(input())\n",
    "first = a//10\n",
    "second = a%10\n",
    "print(\"first digit:\",first)\n",
    "print(\"second digit:\",second)\n",
    "\n",
    "result = (first+second)+(first*second)\n",
    "print(\"result:\",result)"
   ]
  },
  {
   "cell_type": "code",
   "execution_count": 8,
   "id": "277e8533-9a17-41f7-8c2b-60be923a79d3",
   "metadata": {},
   "outputs": [
    {
     "name": "stdin",
     "output_type": "stream",
     "text": [
      " 10\n"
     ]
    },
    {
     "name": "stdout",
     "output_type": "stream",
     "text": [
      "10\n"
     ]
    }
   ],
   "source": [
    "n = int(input())\n",
    "string_num = str(n)\n",
    "print (n)"
   ]
  },
  {
   "cell_type": "code",
   "execution_count": 2,
   "id": "fcd566f4-da05-44ce-87cd-9ccd3428266d",
   "metadata": {},
   "outputs": [
    {
     "name": "stdin",
     "output_type": "stream",
     "text": [
      " 10\n",
      " 20\n"
     ]
    },
    {
     "name": "stdout",
     "output_type": "stream",
     "text": [
      "differ\n"
     ]
    }
   ],
   "source": [
    "n = input()\n",
    "n2 = input()\n",
    "if (n==n2):\n",
    "    print(\"same\")\n",
    "else:\n",
    "    print(\"differ\")"
   ]
  },
  {
   "cell_type": "code",
   "execution_count": 6,
   "id": "3190aca2-d054-4bd3-9c22-faac9a9c0ccf",
   "metadata": {},
   "outputs": [
    {
     "name": "stdin",
     "output_type": "stream",
     "text": [
      " 21\n"
     ]
    },
    {
     "name": "stdout",
     "output_type": "stream",
     "text": [
      "yes\n"
     ]
    }
   ],
   "source": [
    "n = int(input())\n",
    "if (n%7==0):\n",
    "    print(\"yes\")\n",
    "else:\n",
    "    print(\"No\")\n",
    "    "
   ]
  },
  {
   "cell_type": "code",
   "execution_count": 62,
   "id": "fb813f43-cdda-426e-b3c7-edf16347320a",
   "metadata": {},
   "outputs": [
    {
     "name": "stdin",
     "output_type": "stream",
     "text": [
      " 7\n",
      " 10\n",
      " 7\n"
     ]
    },
    {
     "name": "stdout",
     "output_type": "stream",
     "text": [
      "yes\n"
     ]
    }
   ],
   "source": [
    "N = int(input())\n",
    "L = int(input())\n",
    "R = int(input())\n",
    "if (N<=L,N<=R and R>N):\n",
    "    print(\"yes\")\n",
    "else:\n",
    "    print(\"no\")"
   ]
  },
  {
   "cell_type": "code",
   "execution_count": 4,
   "id": "1a4410bd-0292-477f-bd8f-c9bcbd205835",
   "metadata": {},
   "outputs": [
    {
     "name": "stdout",
     "output_type": "stream",
     "text": [
      "he\n"
     ]
    }
   ],
   "source": [
    "a = \"hello world\"\n",
    "print(a[:2])\n"
   ]
  },
  {
   "cell_type": "code",
   "execution_count": 56,
   "id": "e4f600b6-f32b-4f66-a733-e83b71eec352",
   "metadata": {},
   "outputs": [
    {
     "name": "stdin",
     "output_type": "stream",
     "text": [
      " 10\n",
      " 20\n",
      " 30\n"
     ]
    },
    {
     "name": "stdout",
     "output_type": "stream",
     "text": [
      "b is the second largest\n"
     ]
    }
   ],
   "source": [
    "a = int(input())\n",
    "b = int(input())\n",
    "c = int(input())\n",
    "if a>b and a<c:\n",
    "    print(\"a is the second largest\")\n",
    "elif b>a & b<c:\n",
    "    print(\"b is the second largest\")\n",
    "elif c>a & c<b:\n",
    "    print(\"c is the second largest\")\n"
   ]
  },
  {
   "cell_type": "code",
   "execution_count": 48,
   "id": "ba5c3403-3a08-4fa5-ba5d-e3fe2039f30d",
   "metadata": {},
   "outputs": [
    {
     "name": "stdin",
     "output_type": "stream",
     "text": [
      " -3\n"
     ]
    },
    {
     "name": "stdout",
     "output_type": "stream",
     "text": [
      "odd and negative integer\n"
     ]
    }
   ],
   "source": [
    "a = int(input())\n",
    "if (a>0 or a<0):\n",
    "    if (a%2==0 and a>0):\n",
    "        print(\"even and positive integer\")\n",
    "    elif (a%2!=0 and a<0):\n",
    "        print(\"odd and negative integer\")\n",
    "    elif (a<0):\n",
    "        print (\"negative number\")\n",
    "else: \n",
    "    print(\"zero\")"
   ]
  },
  {
   "cell_type": "code",
   "execution_count": 2,
   "id": "f937961d-115e-415e-8160-474973b2b000",
   "metadata": {},
   "outputs": [
    {
     "name": "stdout",
     "output_type": "stream",
     "text": [
      "[2, 3, 4, 5, 6]\n"
     ]
    }
   ],
   "source": [
    "x=[2,3,4,5,6]\n",
    "print(x)"
   ]
  },
  {
   "cell_type": "code",
   "execution_count": 6,
   "id": "32358a01-e7d6-4ec4-9f60-064aa51c52d5",
   "metadata": {},
   "outputs": [
    {
     "name": "stdout",
     "output_type": "stream",
     "text": [
      "[5.1, 5.7, 9.0, 54.0]\n"
     ]
    }
   ],
   "source": [
    "y=[5.1,5.7,9.0,54.0]\n",
    "print(y)"
   ]
  },
  {
   "cell_type": "code",
   "execution_count": 8,
   "id": "f12f9dba-553c-4716-b430-c6ecee22f1f4",
   "metadata": {},
   "outputs": [
    {
     "name": "stdout",
     "output_type": "stream",
     "text": [
      "['nandu', 'preethi', 'anu']\n"
     ]
    }
   ],
   "source": [
    "c=[\"a\",\"b\",\"c\"]\n",
    "print(c)\n"
   ]
  },
  {
   "cell_type": "code",
   "execution_count": 10,
   "id": "5f02d480-1b4a-4a35-aaba-cbd1d0c47842",
   "metadata": {},
   "outputs": [
    {
     "name": "stdout",
     "output_type": "stream",
     "text": [
      "['apple', 'banana', 'orange']\n"
     ]
    }
   ],
   "source": [
    "d=[\"apple\",\"banana\",\"orange\"]\n",
    "print(d)"
   ]
  },
  {
   "cell_type": "code",
   "execution_count": 12,
   "id": "fc704349-1ccb-40ef-8ada-3c9ce7292d4e",
   "metadata": {},
   "outputs": [
    {
     "name": "stdout",
     "output_type": "stream",
     "text": [
      "['orange', 2, 'a', 3.2]\n"
     ]
    }
   ],
   "source": [
    "e=['orange',2,'a',3.2]\n",
    "print(e)"
   ]
  },
  {
   "cell_type": "code",
   "execution_count": 20,
   "id": "0fbabbe3-cef4-41a8-8959-b8ebcec4fea0",
   "metadata": {},
   "outputs": [
    {
     "name": "stdout",
     "output_type": "stream",
     "text": [
      "[['a', 'b'], [2, 45]]\n"
     ]
    }
   ],
   "source": [
    "x=[[\"a\",\"b\"],[2,45]]\n",
    "print(x)"
   ]
  },
  {
   "cell_type": "code",
   "execution_count": 47,
   "id": "bd2a8af3-196e-4ce9-b53c-aff6b2c5d92e",
   "metadata": {},
   "outputs": [
    {
     "name": "stdout",
     "output_type": "stream",
     "text": [
      "('nandu', 'preethi', ['a', 'b'], ['apple', 'banana'])\n",
      "nandu\n"
     ]
    }
   ],
   "source": [
    "y=('nandu','preethi',['a','b'],[\"apple\",\"banana\"])\n",
    "print(y)\n",
    "print(y[0])"
   ]
  },
  {
   "cell_type": "code",
   "execution_count": 41,
   "id": "cad1dccb-b0b8-464d-b27b-e2596d4a3257",
   "metadata": {},
   "outputs": [
    {
     "name": "stdout",
     "output_type": "stream",
     "text": [
      "['p', 'y', 't', 'h', 'o', 'n']\n"
     ]
    }
   ],
   "source": [
    "a=list(\"python\")\n",
    "print(a)"
   ]
  },
  {
   "cell_type": "code",
   "execution_count": 55,
   "id": "b0385cd5-72e6-45e0-94e4-c59c8e1e0499",
   "metadata": {},
   "outputs": [
    {
     "name": "stdout",
     "output_type": "stream",
     "text": [
      "w r aasinit\n"
     ]
    }
   ],
   "source": [
    "a = 'we are data scientist'\n",
    "print(a[::2])"
   ]
  },
  {
   "cell_type": "code",
   "execution_count": 2,
   "id": "a24ed439-67ef-4ba1-b1c8-10b650d010d3",
   "metadata": {},
   "outputs": [
    {
     "name": "stdout",
     "output_type": "stream",
     "text": [
      "[1, 2, 3, 4]\n",
      "1\n"
     ]
    }
   ],
   "source": [
    "num=[1,2,3,4]\n",
    "print(num)\n",
    "a,*other=num\n",
    "print(a)"
   ]
  },
  {
   "cell_type": "code",
   "execution_count": 10,
   "id": "4b390cfd-dde8-4889-9def-db15dde3f061",
   "metadata": {},
   "outputs": [
    {
     "name": "stdout",
     "output_type": "stream",
     "text": [
      "[1, 2, 3, 4]\n",
      "1 2\n",
      "[3, 4]\n"
     ]
    }
   ],
   "source": [
    "num=[1,2,3,4]\n",
    "print(num)\n",
    "a,b,*other=num\n",
    "print(a,b)\n",
    "print(other)"
   ]
  },
  {
   "cell_type": "code",
   "execution_count": 12,
   "id": "a58c25ee-d3e2-4702-80f5-0ee484498dd5",
   "metadata": {},
   "outputs": [
    {
     "name": "stdout",
     "output_type": "stream",
     "text": [
      "apple\n",
      "banana\n",
      "grape\n",
      "orange\n",
      "kiwi\n"
     ]
    }
   ],
   "source": [
    "a = ['apple','banana','grape','orange','kiwi']\n",
    "for i in a:\n",
    "    print(i)"
   ]
  },
  {
   "cell_type": "code",
   "execution_count": 20,
   "id": "86060ec3-4ad4-4ad7-912a-9318e2bd91fb",
   "metadata": {},
   "outputs": [
    {
     "name": "stdout",
     "output_type": "stream",
     "text": [
      "apple\n",
      "banana\n",
      "grape\n",
      "kiwi\n"
     ]
    }
   ],
   "source": [
    "a = ['apple','banana','grape','orange','kiwi']\n",
    "for i in a:\n",
    "    if (i=='orange'):\n",
    "        continue\n",
    "    print(i)\n",
    "    "
   ]
  },
  {
   "cell_type": "code",
   "execution_count": 22,
   "id": "70778199-55fc-476a-b259-659899e7bba3",
   "metadata": {},
   "outputs": [
    {
     "name": "stdout",
     "output_type": "stream",
     "text": [
      "apple\n",
      "banana\n",
      "grape\n"
     ]
    }
   ],
   "source": [
    "a = ['apple','banana','grape','orange','kiwi']\n",
    "for i in a:\n",
    "    if (i=='orange'):\n",
    "        break\n",
    "    print(i)\n",
    "    "
   ]
  },
  {
   "cell_type": "code",
   "execution_count": 32,
   "id": "86c84644-c786-4058-844e-2bf9a33601b7",
   "metadata": {},
   "outputs": [
    {
     "name": "stdout",
     "output_type": "stream",
     "text": [
      "10\n",
      "20\n",
      "30\n",
      "40\n",
      "50\n"
     ]
    }
   ],
   "source": [
    "a = [2,4,6,8,10]\n",
    "for i in a:\n",
    "    mul=i*5\n",
    "    print(mul)\n"
   ]
  },
  {
   "cell_type": "code",
   "execution_count": 34,
   "id": "8e56ae65-a969-4ffe-b60b-5d098a7c6ba1",
   "metadata": {},
   "outputs": [
    {
     "name": "stdout",
     "output_type": "stream",
     "text": [
      "[2, 4, 6, 8]\n",
      "[2, 4, 6, 8, 10]\n"
     ]
    }
   ],
   "source": [
    "num = [2,4,6,8]\n",
    "print(num)\n",
    "num.append(10)\n",
    "print(num)"
   ]
  },
  {
   "cell_type": "code",
   "execution_count": 38,
   "id": "bc0f84ee-128f-4417-89ca-88c2dd0d36ec",
   "metadata": {},
   "outputs": [
    {
     "name": "stdout",
     "output_type": "stream",
     "text": [
      "[7, 8, 9]\n"
     ]
    }
   ],
   "source": [
    "num=[7,8]\n",
    "num.append(9)\n",
    "print(num)"
   ]
  },
  {
   "cell_type": "code",
   "execution_count": 44,
   "id": "2c11c1db-524e-4643-8116-6fdd5a53a9de",
   "metadata": {},
   "outputs": [
    {
     "name": "stdout",
     "output_type": "stream",
     "text": [
      "[1, 2, 3, 4, 'python']\n",
      "['python', 1, 2, 3, 4]\n"
     ]
    }
   ],
   "source": [
    "num=[1,2,3,4]\n",
    "str=['python']\n",
    "x=num+str\n",
    "y=str+num\n",
    "print(x)\n",
    "print(y)"
   ]
  },
  {
   "cell_type": "code",
   "execution_count": 46,
   "id": "bcf50047-0074-4eaa-a8d2-3d1c96eacfd5",
   "metadata": {},
   "outputs": [
    {
     "name": "stdout",
     "output_type": "stream",
     "text": [
      "[1, 2, 3, 4, 'python']\n"
     ]
    }
   ],
   "source": [
    "num = [1,2,3,4]\n",
    "str = ['python']\n",
    "num.extend(str)\n",
    "print(num)"
   ]
  },
  {
   "cell_type": "code",
   "execution_count": 54,
   "id": "a98297da-f37c-47ef-8874-d2d1211dc8c8",
   "metadata": {},
   "outputs": [
    {
     "name": "stdout",
     "output_type": "stream",
     "text": [
      "['python']\n"
     ]
    }
   ],
   "source": [
    "str = ['python']\n",
    "num = [1,2,3,4]\n",
    "num.extend(num)\n",
    "print(str)"
   ]
  },
  {
   "cell_type": "code",
   "execution_count": 56,
   "id": "6fe5f1b4-addb-4bf9-8890-42a3cd9652d2",
   "metadata": {},
   "outputs": [
    {
     "name": "stdout",
     "output_type": "stream",
     "text": [
      "[1, 2, 3, 4, 'list', 'python']\n"
     ]
    }
   ],
   "source": [
    "num = [1,2,3,4]\n",
    "str = ['python']\n",
    "num.extend(str)\n",
    "num.insert(4,'list')\n",
    "print(num)"
   ]
  },
  {
   "cell_type": "code",
   "execution_count": 58,
   "id": "a2ab7e76-1caa-484d-bfc5-aee919b7a187",
   "metadata": {},
   "outputs": [
    {
     "name": "stdout",
     "output_type": "stream",
     "text": [
      "['nandu', 1, 2, 3, 4, 'python']\n"
     ]
    }
   ],
   "source": [
    "num = [1,2,3,4]\n",
    "str = ['python']\n",
    "num.extend(str)\n",
    "num.insert(0,'nandu')\n",
    "print(num)"
   ]
  },
  {
   "cell_type": "code",
   "execution_count": 64,
   "id": "48cecb8e-ad5b-4a11-889e-caaebd54f635",
   "metadata": {},
   "outputs": [
    {
     "name": "stdout",
     "output_type": "stream",
     "text": [
      "[1, 2, 3, 4]\n"
     ]
    }
   ],
   "source": [
    "num = [1,2,3,4]\n",
    "str = ['python']\n",
    "num.extend(str)\n",
    "num.remove('python')\n",
    "print(num)"
   ]
  },
  {
   "cell_type": "code",
   "execution_count": 68,
   "id": "bd3bc166-5c5b-4536-bcc1-cd6e21571ad8",
   "metadata": {},
   "outputs": [
    {
     "name": "stdout",
     "output_type": "stream",
     "text": [
      "[23, 36, 43, 45, 78, 99]\n"
     ]
    }
   ],
   "source": [
    "a = [99,45,78,36,23,43]\n",
    "a.sort()\n",
    "print(a)"
   ]
  },
  {
   "cell_type": "code",
   "execution_count": 70,
   "id": "1b170eaa-9748-4351-a4d4-b9ecfd081d10",
   "metadata": {},
   "outputs": [
    {
     "name": "stdout",
     "output_type": "stream",
     "text": [
      "['e', 'r', 't', 'x', 'z']\n"
     ]
    }
   ],
   "source": [
    "a = ['z','x','r','t','e']\n",
    "a.sort()\n",
    "print(a)"
   ]
  },
  {
   "cell_type": "code",
   "execution_count": 72,
   "id": "156f8acc-3c3d-42d1-88d2-a48544049d08",
   "metadata": {},
   "outputs": [
    {
     "name": "stdout",
     "output_type": "stream",
     "text": [
      "[99, 78, 45, 43, 36, 23]\n"
     ]
    }
   ],
   "source": [
    "a = [99,45,78,36,23,43]\n",
    "a.sort(reverse=True)\n",
    "print(a)"
   ]
  },
  {
   "cell_type": "code",
   "execution_count": 74,
   "id": "48417066-04ee-459f-a464-65c28b24315c",
   "metadata": {},
   "outputs": [
    {
     "name": "stdout",
     "output_type": "stream",
     "text": [
      "[23, 36, 43, 45, 78, 99]\n"
     ]
    }
   ],
   "source": [
    "a = [99,45,78,36,23,43]\n",
    "a.sort(reverse=False)\n",
    "print(a)"
   ]
  },
  {
   "cell_type": "code",
   "execution_count": 76,
   "id": "49a06d59-a372-4403-877b-97c376565aae",
   "metadata": {},
   "outputs": [
    {
     "name": "stdout",
     "output_type": "stream",
     "text": [
      "6\n"
     ]
    }
   ],
   "source": [
    "a = [99,45,78,36,23,43]\n",
    "print(len(a))"
   ]
  },
  {
   "cell_type": "code",
   "execution_count": 78,
   "id": "cdc39229-e64b-4a31-a225-9e1aa05cfd9f",
   "metadata": {},
   "outputs": [
    {
     "name": "stdout",
     "output_type": "stream",
     "text": [
      "23\n"
     ]
    }
   ],
   "source": [
    "a = [99,45,78,36,23,43]\n",
    "print(min(a))"
   ]
  },
  {
   "cell_type": "code",
   "execution_count": 80,
   "id": "efb1529f-4373-4913-9b8d-10faa74c692c",
   "metadata": {},
   "outputs": [
    {
     "name": "stdout",
     "output_type": "stream",
     "text": [
      "99\n"
     ]
    }
   ],
   "source": [
    "a = [99,45,78,36,23,43]\n",
    "print(max(a))"
   ]
  },
  {
   "cell_type": "code",
   "execution_count": 1,
   "id": "40851721-06a5-47a6-bb3e-c15e1ee704bf",
   "metadata": {},
   "outputs": [
    {
     "name": "stdout",
     "output_type": "stream",
     "text": [
      "324\n"
     ]
    }
   ],
   "source": [
    "a = [99,45,78,36,23,43]\n",
    "print(sum(a))"
   ]
  },
  {
   "cell_type": "code",
   "execution_count": 3,
   "id": "277e1ce3-dbf2-45b0-977c-880693195dce",
   "metadata": {},
   "outputs": [
    {
     "name": "stdout",
     "output_type": "stream",
     "text": [
      "54.0\n"
     ]
    }
   ],
   "source": [
    "a = [99,45,78,36,23,43]\n",
    "print(sum(a)/len(a))"
   ]
  },
  {
   "cell_type": "code",
   "execution_count": 88,
   "id": "636dea44-1448-4391-a5df-9149fbd8c462",
   "metadata": {},
   "outputs": [
    {
     "name": "stdout",
     "output_type": "stream",
     "text": [
      "[1, 2, 3, 4, 5, 6, 7, 8, 9, 10]\n"
     ]
    }
   ],
   "source": [
    "list1 = list(range(1,11))\n",
    "print(list1)"
   ]
  },
  {
   "cell_type": "code",
   "execution_count": 94,
   "id": "c84201ae-8f49-43c1-a2fa-023a97ba8d68",
   "metadata": {},
   "outputs": [
    {
     "name": "stdout",
     "output_type": "stream",
     "text": [
      "[1, 2, 3, 4, 5, 6, 7, 8, 9, 10]\n",
      "[1, 3, 5, 7, 9]\n"
     ]
    }
   ],
   "source": [
    "list1 = list(range(1,11))\n",
    "print(list1)\n",
    "odd = list1[::2]\n",
    "print(odd)"
   ]
  },
  {
   "cell_type": "code",
   "execution_count": 105,
   "id": "77389cf8-9944-4e0f-bf78-ec3d59c079f6",
   "metadata": {},
   "outputs": [
    {
     "name": "stdout",
     "output_type": "stream",
     "text": [
      "[1, 2, 3, 4, 5, 6, 7, 8, 9, 10]\n",
      "[2, 4, 6, 8, 10]\n"
     ]
    }
   ],
   "source": [
    "list1 = list(range(1,11))\n",
    "print(list1)\n",
    "even = list1[1::2]\n",
    "print(even)"
   ]
  },
  {
   "cell_type": "code",
   "execution_count": 107,
   "id": "7beeebcc-42da-4a7d-b849-4aef4874890d",
   "metadata": {},
   "outputs": [
    {
     "name": "stdout",
     "output_type": "stream",
     "text": [
      "[1, 2, 3, 4, 5, 6, 7, 8, 9, 10]\n",
      "[1, 4, 7, 10]\n"
     ]
    }
   ],
   "source": [
    "list1 = list(range(1,11))\n",
    "print(list1)\n",
    "odd = list1[::3]\n",
    "print(odd)"
   ]
  },
  {
   "cell_type": "code",
   "execution_count": 34,
   "id": "4eeb8a3f-50a6-4421-ba4d-72f4773e3033",
   "metadata": {},
   "outputs": [
    {
     "name": "stdout",
     "output_type": "stream",
     "text": [
      "****\n",
      "****\n",
      "****\n",
      "****\n"
     ]
    }
   ],
   "source": [
    "\n",
    "for i in range(4):\n",
    "    print('*' * 4)\n"
   ]
  },
  {
   "cell_type": "code",
   "execution_count": 54,
   "id": "13c4d6d1-ea2b-48a0-8859-280390e2dfb1",
   "metadata": {},
   "outputs": [
    {
     "name": "stdout",
     "output_type": "stream",
     "text": [
      "****\n",
      "****\n",
      "****\n",
      "****\n"
     ]
    }
   ],
   "source": [
    "for i in range(4):\n",
    "    print('*' * 4 )"
   ]
  },
  {
   "cell_type": "code",
   "execution_count": 64,
   "id": "eee5cf75-3259-494c-b119-0d862e45045c",
   "metadata": {},
   "outputs": [
    {
     "name": "stdout",
     "output_type": "stream",
     "text": [
      "****\n",
      "****\n",
      "****\n",
      "****\n",
      "****\n",
      "****\n"
     ]
    }
   ],
   "source": [
    "for i in range(4):\n",
    "    for j in range(i):\n",
    "        print('*' * 4)\n"
   ]
  },
  {
   "cell_type": "code",
   "execution_count": 83,
   "id": "8f865ef1-e51d-4add-890b-ab86858e611e",
   "metadata": {},
   "outputs": [
    {
     "name": "stdout",
     "output_type": "stream",
     "text": [
      " ****\n"
     ]
    }
   ],
   "source": [
    "n=4\n",
    "for i in range(n - 1,0, -4):\n",
    "    print(' ' * (n - i) + '*' * n)"
   ]
  },
  {
   "cell_type": "code",
   "execution_count": 95,
   "id": "22a53b23-f179-4cff-a17e-dae35ce241b7",
   "metadata": {},
   "outputs": [
    {
     "ename": "SyntaxError",
     "evalue": "incomplete input (3477860531.py, line 1)",
     "output_type": "error",
     "traceback": [
      "\u001b[1;36m  Cell \u001b[1;32mIn[95], line 1\u001b[1;36m\u001b[0m\n\u001b[1;33m    \\\u001b[0m\n\u001b[1;37m     ^\u001b[0m\n\u001b[1;31mSyntaxError\u001b[0m\u001b[1;31m:\u001b[0m incomplete input\n"
     ]
    }
   ],
   "source": [
    "\\"
   ]
  },
  {
   "cell_type": "code",
   "execution_count": 111,
   "id": "34c991c7-0cb1-4b0f-a381-6e7add7d71f9",
   "metadata": {},
   "outputs": [
    {
     "name": "stdout",
     "output_type": "stream",
     "text": [
      "****\n",
      "****\n",
      "****\n",
      "****\n"
     ]
    }
   ],
   "source": [
    "for i in range(1,5):\n",
    "    print(\"*\" *4)"
   ]
  },
  {
   "cell_type": "code",
   "execution_count": 157,
   "id": "84bf6a49-6c85-46c8-8c9b-c0561af93928",
   "metadata": {},
   "outputs": [
    {
     "name": "stdout",
     "output_type": "stream",
     "text": [
      "*\n",
      "**\n",
      "***\n",
      "****\n",
      "*****\n"
     ]
    }
   ],
   "source": [
    "for i in range(1,6):\n",
    "    print('*'*i)\n"
   ]
  },
  {
   "cell_type": "code",
   "execution_count": 183,
   "id": "b6d66434-ac8a-4c84-98af-e571f467b79e",
   "metadata": {},
   "outputs": [
    {
     "name": "stdout",
     "output_type": "stream",
     "text": [
      "*\n",
      "**\n",
      "***\n",
      "****\n",
      "*****\n"
     ]
    }
   ],
   "source": [
    "for i in range(1,6):\n",
    "    print('*'*i)"
   ]
  },
  {
   "cell_type": "code",
   "execution_count": 205,
   "id": "9d6c94f9-30c2-40d5-be4d-b26dfc6590a0",
   "metadata": {},
   "outputs": [
    {
     "name": "stdout",
     "output_type": "stream",
     "text": [
      "    *\n",
      "   ***\n",
      "  *****\n",
      " *******\n"
     ]
    }
   ],
   "source": [
    "for i in range(1, 5):\n",
    "    print(  ' ' * (5 - i)+'*' * (2 * i - 1))\n"
   ]
  },
  {
   "cell_type": "code",
   "execution_count": 209,
   "id": "c44caaea-ee92-444a-a369-399429b24358",
   "metadata": {},
   "outputs": [
    {
     "name": "stdout",
     "output_type": "stream",
     "text": [
      " ****\n",
      "  ****\n",
      "   ****\n",
      "    ****\n"
     ]
    }
   ],
   "source": [
    "for i in range(4):\n",
    "    for j in range(1):\n",
    "        print(' '*i, '*'*4)"
   ]
  },
  {
   "cell_type": "code",
   "execution_count": 221,
   "id": "ad9ed34c-266a-47dd-9035-20bd5857b58d",
   "metadata": {},
   "outputs": [
    {
     "name": "stdout",
     "output_type": "stream",
     "text": [
      " *\n",
      " **\n",
      " ***\n",
      " ****\n",
      " *****\n"
     ]
    }
   ],
   "source": [
    "n=6\n",
    "for i in range(1,6):\n",
    "    for j in range(1):\n",
    "        print(''*(n-1),i*'*') \n",
    "        n=n-1\n",
    "    "
   ]
  },
  {
   "cell_type": "code",
   "execution_count": 28,
   "id": "379ffb7b-6687-4d33-aabd-927969642444",
   "metadata": {},
   "outputs": [
    {
     "name": "stdout",
     "output_type": "stream",
     "text": [
      "*\n",
      "**\n",
      "***\n",
      "****\n",
      "*****\n"
     ]
    }
   ],
   "source": [
    "n=5\n",
    "for i in range(1,n+1):\n",
    "    for j in range(1,i+1):\n",
    "        print('*',end=\"\")\n",
    "    print()    "
   ]
  },
  {
   "cell_type": "code",
   "execution_count": 44,
   "id": "74508b39-ced1-4e6a-92ea-bd3d2330a400",
   "metadata": {},
   "outputs": [
    {
     "name": "stdout",
     "output_type": "stream",
     "text": [
      "******\n",
      "******\n",
      "******\n",
      "******\n",
      "******\n",
      "******\n"
     ]
    }
   ],
   "source": [
    "n=6\n",
    "for i in range(n):\n",
    "    for j in range(1,n+1):\n",
    "        print('*',end=\"\")\n",
    "    print()    "
   ]
  },
  {
   "cell_type": "code",
   "execution_count": 38,
   "id": "540f8f90-4a67-45de-9ec3-87f9c80f5be6",
   "metadata": {},
   "outputs": [
    {
     "name": "stdout",
     "output_type": "stream",
     "text": [
      "******\n",
      "*****\n",
      "****\n",
      "***\n",
      "**\n"
     ]
    }
   ],
   "source": [
    "n=5\n",
    "for i in range(n):\n",
    "    for j in range(i,n+1):\n",
    "        print('*',end=\"\")\n",
    "    print()    "
   ]
  },
  {
   "cell_type": "code",
   "execution_count": 42,
   "id": "6a038e25-f21c-4047-8c6f-693ca1802f31",
   "metadata": {},
   "outputs": [
    {
     "name": "stdout",
     "output_type": "stream",
     "text": [
      "*\n",
      "*\n",
      "*\n",
      "*\n",
      "*\n",
      "*\n",
      "\n",
      "*\n",
      "*\n",
      "*\n",
      "*\n",
      "*\n",
      "*\n",
      "\n",
      "*\n",
      "*\n",
      "*\n",
      "*\n",
      "*\n",
      "*\n",
      "\n",
      "*\n",
      "*\n",
      "*\n",
      "*\n",
      "*\n",
      "*\n",
      "\n",
      "*\n",
      "*\n",
      "*\n",
      "*\n",
      "*\n",
      "*\n",
      "\n",
      "*\n",
      "*\n",
      "*\n",
      "*\n",
      "*\n",
      "*\n",
      "\n"
     ]
    }
   ],
   "source": [
    "n = 6\n",
    "for i in range(1,n+1):\n",
    "    for j in range(i,n+i):\n",
    "        print(\"*\",)\n",
    "    print()    "
   ]
  },
  {
   "cell_type": "code",
   "execution_count": 46,
   "id": "afd5c196-2e34-4353-b381-1b96deb65f91",
   "metadata": {},
   "outputs": [
    {
     "name": "stdout",
     "output_type": "stream",
     "text": [
      "*\n",
      "**\n",
      "***\n",
      "****\n"
     ]
    }
   ],
   "source": [
    "n=4\n",
    "for i in range(1,n+1):\n",
    "    for j in range(1,i+1):\n",
    "        print('*',end=\"\")\n",
    "    print()    "
   ]
  },
  {
   "cell_type": "code",
   "execution_count": 56,
   "id": "c9ce7e16-8074-42a6-a8df-91548229b921",
   "metadata": {},
   "outputs": [
    {
     "name": "stdout",
     "output_type": "stream",
     "text": [
      "*********\n",
      "********\n",
      "*******\n",
      "******\n",
      "*****\n",
      "****\n",
      "***\n",
      "**\n",
      "*\n",
      "\n"
     ]
    }
   ],
   "source": [
    "n=10\n",
    "for i in range(n):\n",
    "    for j in range(1,n-i):\n",
    "        print('*',end=\"\")\n",
    "    print()    "
   ]
  },
  {
   "cell_type": "code",
   "execution_count": 78,
   "id": "c1fa7c8d-827b-470d-abc7-1380ca765ae6",
   "metadata": {},
   "outputs": [
    {
     "name": "stdout",
     "output_type": "stream",
     "text": [
      "\n",
      "\n",
      "\n",
      "\n",
      "\n",
      "*\n",
      "*\n",
      "*\n",
      "\n",
      "**\n",
      "**\n",
      "\n",
      "***\n",
      "\n",
      "\n"
     ]
    }
   ],
   "source": [
    "n=5\n",
    "for i in range(n):\n",
    "    for j in range(1,n-i):\n",
    "        print('*' * i)\n",
    "    print()    "
   ]
  },
  {
   "cell_type": "code",
   "execution_count": 117,
   "id": "45c2229b-37f0-4cb8-85bf-0564d1625d1e",
   "metadata": {},
   "outputs": [
    {
     "name": "stdout",
     "output_type": "stream",
     "text": [
      "\n",
      "*\n",
      "**\n",
      "***\n",
      "****\n"
     ]
    }
   ],
   "source": [
    "for i in range(5):\n",
    "    print(\"*\"*i)"
   ]
  },
  {
   "cell_type": "code",
   "execution_count": 121,
   "id": "0a58a588-1813-4553-a1ee-66f52ada779c",
   "metadata": {},
   "outputs": [
    {
     "name": "stdout",
     "output_type": "stream",
     "text": [
      "*****\n",
      "*****\n",
      "*****\n",
      "*****\n"
     ]
    }
   ],
   "source": [
    "n=4\n",
    "for i in range(n):\n",
    "    for j in range(n+1):\n",
    "        print('*',end=\"\")\n",
    "    print()    "
   ]
  },
  {
   "cell_type": "code",
   "execution_count": 5,
   "id": "9869a573-d84e-462c-bbfc-7ee7ed7c5259",
   "metadata": {},
   "outputs": [
    {
     "name": "stdout",
     "output_type": "stream",
     "text": [
      "****\n",
      "*  *\n",
      "*  *\n",
      "****\n"
     ]
    }
   ],
   "source": [
    "n=4\n",
    "for i in range(n):\n",
    "    for j in range(n):\n",
    "        if i==0 or i==n-1 or j==0 or j==n-1:\n",
    "            print('*',end=\"\")\n",
    "        else:\n",
    "            print(\" \",end=\"\")\n",
    "    print() \n",
    "    \n"
   ]
  },
  {
   "cell_type": "code",
   "execution_count": 194,
   "id": "4eba4054-9e27-4314-a991-7e9b9f29d92f",
   "metadata": {},
   "outputs": [
    {
     "name": "stdout",
     "output_type": "stream",
     "text": [
      "***\n",
      "* *\n",
      "***\n"
     ]
    }
   ],
   "source": [
    "def hallow_square(n):\n",
    "    for i in range(n):\n",
    "        for j in range(n):\n",
    "            if i==0 or i==n-1 or j==0 or j==n-1:\n",
    "                print('*',end=\"\")\n",
    "            else:\n",
    "                print(\" \",end=\"\")\n",
    "        print() \n",
    "    \n",
    "n=3  \n",
    "hallow_square(n)      \n",
    "          "
   ]
  },
  {
   "cell_type": "code",
   "execution_count": 180,
   "id": "7fe87a44-5e3f-4e6f-80e2-f811b31d1137",
   "metadata": {},
   "outputs": [
    {
     "name": "stdout",
     "output_type": "stream",
     "text": [
      "* * * * \n",
      "*     * \n",
      "*     * \n",
      "* * * * \n"
     ]
    }
   ],
   "source": [
    "def print_hollow_square_star_pattern(n):\n",
    "    for i in range(n):\n",
    "        for j in range(n):\n",
    "            if i == 0 or i == n-1 or j == 0 or j == n-1:\n",
    "                print(\"*\", end=\" \")\n",
    "            else:\n",
    "                print(\" \", end=\" \")\n",
    "        print()\n",
    "n = 4\n",
    "print_hollow_square_star_pattern(n)\n"
   ]
  },
  {
   "cell_type": "code",
   "execution_count": 15,
   "id": "60c3fe66-6b39-4bb6-97ca-bd78428f2915",
   "metadata": {},
   "outputs": [
    {
     "name": "stdout",
     "output_type": "stream",
     "text": [
      "****\n",
      "*  *\n",
      "*  *\n",
      "****\n"
     ]
    }
   ],
   "source": [
    "n=4\n",
    "for i in range(n):\n",
    "    for j in range(n):\n",
    "        if (i==0 or i==n-1 or j==0 or j==n-1):\n",
    "            print(\"*\", end='')\n",
    "        else:\n",
    "            print(\" \", end='')\n",
    "    print()      \n",
    "        "
   ]
  },
  {
   "cell_type": "code",
   "execution_count": 23,
   "id": "4ec6413f-53ae-45d9-93bf-e8bda7a4bc8b",
   "metadata": {},
   "outputs": [
    {
     "name": "stdout",
     "output_type": "stream",
     "text": [
      "       *\n",
      "      * *\n",
      "     * * *\n",
      "    * * * *\n",
      "   * * * * *\n"
     ]
    }
   ],
   "source": [
    "n=6\n",
    "for i in range(1,6):\n",
    "    for j in range(1):\n",
    "        print(\" \"*(n-1),i*\" *\")\n",
    "        n=n-1\n",
    "    \n",
    "    \n"
   ]
  },
  {
   "cell_type": "code",
   "execution_count": 25,
   "id": "7fd83981-83c8-4345-804d-d4ea071ffdf6",
   "metadata": {},
   "outputs": [
    {
     "name": "stdout",
     "output_type": "stream",
     "text": [
      "      *\n",
      "     **\n",
      "    ***\n",
      "   ****\n",
      "  *****\n"
     ]
    }
   ],
   "source": [
    "n=6\n",
    "for i in range(1,6):\n",
    "    for j in range(1):\n",
    "        print(\" \"*(n-1),i*\"*\")\n",
    "        n=n-1\n",
    "    "
   ]
  },
  {
   "cell_type": "code",
   "execution_count": null,
   "id": "b59a7b7b-c259-4da7-b1b9-c456ce0c58a9",
   "metadata": {},
   "outputs": [],
   "source": []
  }
 ],
 "metadata": {
  "kernelspec": {
   "display_name": "Python 3 (ipykernel)",
   "language": "python",
   "name": "python3"
  },
  "language_info": {
   "codemirror_mode": {
    "name": "ipython",
    "version": 3
   },
   "file_extension": ".py",
   "mimetype": "text/x-python",
   "name": "python",
   "nbconvert_exporter": "python",
   "pygments_lexer": "ipython3",
   "version": "3.12.4"
  }
 },
 "nbformat": 4,
 "nbformat_minor": 5
}
