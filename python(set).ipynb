{
 "cells": [
  {
   "cell_type": "code",
   "execution_count": 3,
   "id": "391681ec-f801-4f6b-877a-94e7e6d9b40d",
   "metadata": {},
   "outputs": [
    {
     "name": "stdout",
     "output_type": "stream",
     "text": [
      "{2, 5, 9.4, 'a'}\n"
     ]
    }
   ],
   "source": [
    "value_set ={2,'python','a',5,9.4}\n",
    "value_set.remove('python')\n",
    "print(value_set)"
   ]
  },
  {
   "cell_type": "code",
   "execution_count": 5,
   "id": "8213cb7e-c6c5-4fa6-9db4-a8a648dc8366",
   "metadata": {},
   "outputs": [
    {
     "name": "stdout",
     "output_type": "stream",
     "text": [
      "{2, 5, 9.4, 'a'}\n"
     ]
    }
   ],
   "source": [
    "value_set ={2,'python','a',5,9.4}\n",
    "value_set.discard('python')\n",
    "print(value_set)"
   ]
  },
  {
   "cell_type": "code",
   "execution_count": 7,
   "id": "dac6d7b8-2494-4737-872d-82ac18614b02",
   "metadata": {},
   "outputs": [
    {
     "name": "stdout",
     "output_type": "stream",
     "text": [
      "5\n"
     ]
    }
   ],
   "source": [
    "value_set = {2,4,5,6,7}\n",
    "print(len(value_set))"
   ]
  },
  {
   "cell_type": "code",
   "execution_count": 9,
   "id": "4e9b2a75-72e4-4c79-928f-2b71c5354e46",
   "metadata": {},
   "outputs": [
    {
     "name": "stdout",
     "output_type": "stream",
     "text": [
      "<class 'set'>\n"
     ]
    }
   ],
   "source": [
    "value_set = {2,4,5,6,7}\n",
    "print(type(value_set))"
   ]
  },
  {
   "cell_type": "code",
   "execution_count": 11,
   "id": "12eb85e4-671e-49db-b678-81bbaa072601",
   "metadata": {},
   "outputs": [
    {
     "name": "stdout",
     "output_type": "stream",
     "text": [
      "24\n"
     ]
    }
   ],
   "source": [
    "value_set = {2,4,5,6,7}\n",
    "print(sum(value_set))"
   ]
  },
  {
   "cell_type": "code",
   "execution_count": 13,
   "id": "97ef9f0a-729a-4aba-9b81-2410a86bd7ed",
   "metadata": {},
   "outputs": [
    {
     "name": "stdout",
     "output_type": "stream",
     "text": [
      "2\n"
     ]
    }
   ],
   "source": [
    "value_set = {2,4,5,6,7}\n",
    "print(min(value_set))"
   ]
  },
  {
   "cell_type": "code",
   "execution_count": 15,
   "id": "ec957ca5-f807-47f6-b7e9-7d02a0b21f64",
   "metadata": {},
   "outputs": [
    {
     "name": "stdout",
     "output_type": "stream",
     "text": [
      "7\n"
     ]
    }
   ],
   "source": [
    "value_set = {2,4,5,6,7}\n",
    "print(max(value_set))"
   ]
  },
  {
   "cell_type": "code",
   "execution_count": 23,
   "id": "08b28ef8-882f-4541-891d-05b0ef09a7b1",
   "metadata": {},
   "outputs": [
    {
     "ename": "SyntaxError",
     "evalue": "invalid syntax. Perhaps you forgot a comma? (1382977975.py, line 2)",
     "output_type": "error",
     "traceback": [
      "\u001b[1;36m  Cell \u001b[1;32mIn[23], line 2\u001b[1;36m\u001b[0m\n\u001b[1;33m    n = add(value_set{9})\u001b[0m\n\u001b[1;37m            ^\u001b[0m\n\u001b[1;31mSyntaxError\u001b[0m\u001b[1;31m:\u001b[0m invalid syntax. Perhaps you forgot a comma?\n"
     ]
    }
   ],
   "source": [
    "value_set = {2,4,5,6,7}\n",
    "n = add(value_set{9})\n",
    "print(n)"
   ]
  },
  {
   "cell_type": "code",
   "execution_count": null,
   "id": "0c319914-335a-4f18-8d2e-620c75bbb643",
   "metadata": {},
   "outputs": [],
   "source": []
  }
 ],
 "metadata": {
  "kernelspec": {
   "display_name": "Python 3 (ipykernel)",
   "language": "python",
   "name": "python3"
  },
  "language_info": {
   "codemirror_mode": {
    "name": "ipython",
    "version": 3
   },
   "file_extension": ".py",
   "mimetype": "text/x-python",
   "name": "python",
   "nbconvert_exporter": "python",
   "pygments_lexer": "ipython3",
   "version": "3.12.4"
  }
 },
 "nbformat": 4,
 "nbformat_minor": 5
}
